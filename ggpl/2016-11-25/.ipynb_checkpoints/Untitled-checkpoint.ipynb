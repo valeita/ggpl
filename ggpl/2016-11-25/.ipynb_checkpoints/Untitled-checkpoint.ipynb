{
 "cells": [
  {
   "cell_type": "markdown",
   "metadata": {},
   "source": [
    "# WORKSHOP_07\n",
    "\n",
    "# This is a Python project for RomaTre University in Geometric & Graphics Programming Lab. by Alberto Paoluzzi.\n",
    "\n",
    "\n",
    "# Design Of Door And Window:\n",
    "\n",
    "### Description: \n",
    "\n",
    "The workshop of today rapresent a generator of doors / windows.\n",
    "taken as input the list of values Representing A length, compared to the axis of x, y and z, A three-dimensional array of elements 0 and 1 (I also added the element -1, in order to be able of Building with glass doors / windows if desired), and other 3 parameters dx, dy, dz, which are the inputs of the sub-function of the main function, it will run an algorithm that processes the data and builds the structure. Please note that the main function is a two-level function.\n",
    "\n",
    "In this workshop, two sample inputs were taken created. One relating to a window, very simple and concocted. One instead took a long time for its design, both for the size that they had to be as realistic as possible, both for the three-dimensional matrix, which is the result of well 308 Boolean array, written one by one.\n"
   ]
  },
  {
   "cell_type": "markdown",
   "metadata": {
    "collapsed": true
   },
   "source": [
    "[![GLASS-DOORS-AND-WINDOWS-Building-materials-For-s.jpg](https://s20.postimg.org/ui561t13h/GLASS_DOORS_AND_WINDOWS_Building_materials_For_s.jpg)](https://postimg.org/image/6r5sjp0w9/)"
   ]
  },
  {
   "cell_type": "markdown",
   "metadata": {},
   "source": [
    "[![d175ba56fe6c44e1f6b218822632a70e.jpg](https://s20.postimg.org/myc2zr7wt/d175ba56fe6c44e1f6b218822632a70e.jpg)](https://postimg.org/image/3t8tpzt8p/)"
   ]
  },
  {
   "cell_type": "markdown",
   "metadata": {
    "collapsed": true
   },
   "source": [
    "## Door generator\n",
    "\n",
    "### First level's function:\n",
    "the main function:\n",
    "It takes as input a total of 4 + 3 parameters, as already mentioned in the description. the first 3 are the lists of values along the x, y and z. the fourth parameter is a Boolean three-dimensional matrix.\n",
    "the value 1 will be inserted in the vicinity of a cell that is full, the value zero in the vicinity of an empty cell instead.\n",
    "A change I have brought to the program compared to what was required me, is to put in the also the element -1 matrix. It therefore no longer only Boolean, but allows me to handle this problem. For the creation of a glass door, I had to find a way to manage a zero possible that it was neither an empty cell, nor a full cell (I mean a part in wood for example), but it was a cell where he was going glass inserted.\n",
    "Beyond this, if the input is inserted a three-dimensional Boolean array, the program still responds well, just insert a blank space instead of glass. In doing so, I have not violated the requirements of the project.\n",
    "The last 3 parameters dx, dy and dz are the values that are used to perform a check on the created structure, and must be of the right size to handle the problem that the wood humidity can increase with the size of for example. They are not mere scale values."
   ]
  },
  {
   "cell_type": "markdown",
   "metadata": {
    "collapsed": true
   },
   "source": [
    "### Second level's function:\n",
    "\n",
    "The second-level function then takes three parameters which correspond to the minimum size with respect to the axes x, y and z to hold the door / window. It is done so a comparison between the size of the object created, and size took more constant alpha input that I took as 3 cm(1,5 cm on the left and on the right). The constant will be the minimum dimensions of free space in addition to the size of the object to accept its implementation, and manage any future problems due to the material.\n",
    "\n",
    "if the maximum dimensions are quite abundant in width, they create a multitude of models side by side, respecting the controls on the constant alpha, and avoiding to never go over the maximum size"
   ]
  },
  {
   "cell_type": "code",
   "execution_count": 1,
   "metadata": {
    "collapsed": false
   },
   "outputs": [
    {
     "name": "stdout",
     "output_type": "stream",
     "text": [
      "Evaluating fenvs.py..\n",
      "...fenvs.py imported in 0.00405121834512 seconds\n"
     ]
    }
   ],
   "source": [
    "from pyplasm import *\n",
    "from larlib import *\n",
    "\n",
    "def generates_door(X,Y,Z,occupancy):\n",
    "    \n",
    "    \"\"\"\n",
    "    Following the function takes three input parameters of list,\n",
    "    a three-dimensional matrix, and 3 real. Processes the data and\n",
    "    products after appropriate controls an HPC, the door/doors.\n",
    "    \"\"\"\n",
    "\n",
    "    list = []\n",
    "    cont1 = 0\n",
    "    cont2 = 0\n",
    "    cont3 = 0\n",
    "    sum1=0\n",
    "    sum2=0\n",
    "    sum3=0\n",
    "    \n",
    "    for elem_z in occupancy:\n",
    "\n",
    "        cont2=0\n",
    "        sum2=0\n",
    "        for elem_y in elem_z:\n",
    "\n",
    "            cont1=0\n",
    "            sum1=0\n",
    "            for elem_x in elem_y:\n",
    "\n",
    "                if(elem_x == 1):\n",
    "                    \n",
    "                    list.append(T([1,2,3])([sum1,sum2,sum3])(COLOR(Color4f([126/255., 78/255., 40/255., 1]))(CUBOID([X[cont1],Y[cont2],Z[cont3]]))))\n",
    "                    cont1 = cont1+1\n",
    "                    sum1=sum1+X[cont1-1]\n",
    "                    \n",
    "                elif(elem_x == -1):\n",
    "\n",
    "                    list.append(T([1,2,3])([sum1,sum2,sum3])(COLOR(Color4f([96/255., 144/255., 170/255., 1]))(CUBOID([X[cont1],Y[cont2],Z[cont3]]))))\n",
    "                    cont1 = cont1+1\n",
    "                    sum1=sum1+X[cont1-1]\n",
    "                \n",
    "            cont2=cont2+1\n",
    "            sum2=sum2+Y[cont2-1]\n",
    "        cont3=cont3+1\n",
    "        sum3=sum3+Z[cont3-1]\n",
    "\n",
    "        structure = STRUCT(list)\n",
    "        structure = S(1)(-1)(structure)\n",
    "        structure = T(1)(sum1)(structure)\n",
    "    \n",
    "    def check(dx,dy,dz):\n",
    "\n",
    "        list_s = []\n",
    "        alfa = 0.03        \n",
    "        xMAX = 0\n",
    "        yMAX = 0\n",
    "        zMAX = 0\n",
    "\n",
    "        for i in X:\n",
    "\n",
    "            xMAX = xMAX+i\n",
    "            \n",
    "        for i in Y:\n",
    "\n",
    "            yMAX = yMAX+i\n",
    "            \n",
    "        for i in Z:\n",
    "\n",
    "            zMAX = zMAX+i\n",
    "\n",
    "        if(xMAX+alfa>dx or yMAX+alfa>dy or zMAX+alfa>dz):\n",
    "\n",
    "            print(\"size not enough to hold the door / window\")\n",
    "    \n",
    "        list_s.append(OFFSET([0.02,0.02,0.02])(SKEL_1(CUBOID([dx,dy,dz]))))                    \n",
    "        list_s.append(T([1,2,3])([0.015,0.015,0.015]))                     \n",
    "        list_s.append(structure)\n",
    "        \n",
    "        space_occuped = yMAX + alfa\n",
    "        while(dy-space_occuped>yMAX+alfa):\n",
    "            \n",
    "            list_s.append(T(2)(yMAX+(alfa/2.0)))\n",
    "            list_s.append(structure)\n",
    "            space_occuped = space_occuped + yMAX + alfa\n",
    "            \n",
    "\n",
    "        return STRUCT(list_s)\n",
    "\n",
    "    return check"
   ]
  },
  {
   "cell_type": "markdown",
   "metadata": {},
   "source": [
    "## Window Generator:\n",
    "\n",
    "it's the same function of the door generator. It's the same algorithm, but in this codice, i change the color of the main structure, following my kind of window chose."
   ]
  },
  {
   "cell_type": "code",
   "execution_count": 2,
   "metadata": {
    "collapsed": true
   },
   "outputs": [],
   "source": [
    "def generates_window(X,Y,Z,occupancy):\n",
    "    \n",
    "    \"\"\"\n",
    "    Following the function takes three input parameters of list,\n",
    "    a three-dimensional matrix, and 3 real. Processes the data and\n",
    "    products after appropriate controls an HPC, the window/windows.\n",
    "    \"\"\"\n",
    "\n",
    "    list = []\n",
    "    cont1 = 0\n",
    "    cont2 = 0\n",
    "    cont3 = 0\n",
    "    sum1=0\n",
    "    sum2=0\n",
    "    sum3=0\n",
    "    \n",
    "    for elem_z in occupancy:\n",
    "\n",
    "        cont2=0\n",
    "        sum2=0\n",
    "        for elem_y in elem_z:\n",
    "\n",
    "            cont1=0\n",
    "            sum1=0\n",
    "            for elem_x in elem_y:\n",
    "\n",
    "                if(elem_x == 1):\n",
    "                    \n",
    "                    list.append(T([1,2,3])([sum1,sum2,sum3])(CUBOID([X[cont1],Y[cont2],Z[cont3]])))\n",
    "                    cont1 = cont1+1\n",
    "                    sum1=sum1+X[cont1-1]\n",
    "                    \n",
    "                elif(elem_x == -1):\n",
    "\n",
    "                    list.append(T([1,2,3])([sum1,sum2,sum3])(COLOR(Color4f([96/255., 144/255., 170/255., 1]))(CUBOID([X[cont1],Y[cont2],Z[cont3]]))))\n",
    "                    cont1 = cont1+1\n",
    "                    sum1=sum1+X[cont1-1]\n",
    "                \n",
    "            cont2=cont2+1\n",
    "            sum2=sum2+Y[cont2-1]\n",
    "        cont3=cont3+1\n",
    "        sum3=sum3+Z[cont3-1]\n",
    "\n",
    "        structure = STRUCT(list)\n",
    "        structure = S(1)(-1)(structure)\n",
    "        structure = T(1)(sum1)(structure)\n",
    "    \n",
    "    def check(dx,dy,dz):\n",
    "\n",
    "        list_s = []\n",
    "        alfa = 0.03        \n",
    "        xMAX = 0\n",
    "        yMAX = 0\n",
    "        zMAX = 0\n",
    "\n",
    "        for i in X:\n",
    "\n",
    "            xMAX = xMAX+i\n",
    "            \n",
    "        for i in Y:\n",
    "\n",
    "            yMAX = yMAX+i\n",
    "            \n",
    "        for i in Z:\n",
    "\n",
    "            zMAX = zMAX+i\n",
    "\n",
    "        if(xMAX+alfa>dx or yMAX+alfa>dy or zMAX+alfa>dz):\n",
    "\n",
    "            print(\"size not enough to hold the door / window\")\n",
    "    \n",
    "        list_s.append(OFFSET([0.02,0.02,0.02])(SKEL_1(CUBOID([dx,dy,dz]))))                    \n",
    "        list_s.append(T([1,2,3])([0.015,0.015,0.015]))                     \n",
    "        list_s.append(structure)\n",
    "        \n",
    "        space_occuped = yMAX + alfa\n",
    "        while(dy-space_occuped>yMAX+alfa):\n",
    "            \n",
    "            list_s.append(T(2)(yMAX+(alfa/2.0)))\n",
    "            list_s.append(structure)\n",
    "            space_occuped = space_occuped + yMAX + alfa\n",
    "            \n",
    "\n",
    "        return STRUCT(list_s)\n",
    "\n",
    "    return check\n",
    "        "
   ]
  },
  {
   "cell_type": "markdown",
   "metadata": {
    "collapsed": true
   },
   "source": [
    "the following function is supplementary to the program, and has the function of generating the first parameter to be passed to the main function."
   ]
  },
  {
   "cell_type": "code",
   "execution_count": 3,
   "metadata": {
    "collapsed": true
   },
   "outputs": [],
   "source": [
    "def generate_X(string):\n",
    "    \n",
    "    \"\"\"\n",
    "    given a string, returns the input examples values with respect to the x axis.\n",
    "    It is the first parameter of generates_window / door function\n",
    "    \"\"\"\n",
    "\n",
    "    if(string == \"door\"):\n",
    "        \n",
    "        return [0.04,0.04]\n",
    "    \n",
    "    if(string == \"window\"):\n",
    "        \n",
    "        return [0.05]"
   ]
  },
  {
   "cell_type": "markdown",
   "metadata": {
    "collapsed": true
   },
   "source": [
    "the following function is supplementary to the program, and has the function of generating the second parameter to be passed to the main function."
   ]
  },
  {
   "cell_type": "code",
   "execution_count": 4,
   "metadata": {
    "collapsed": true
   },
   "outputs": [],
   "source": [
    "def generate_Y(string):\n",
    "    \n",
    "    \"\"\"\n",
    "    given a string, returns the input examples values with respect to the y axis.\n",
    "    It is the second parameter of generates_window / door function\n",
    "    \"\"\"\n",
    "\n",
    "    if(string == \"door\"):\n",
    "        \n",
    "        return [0.1,0.03,0.1,0.075,0.03,0.075,0.03,0.075,0.03,0.075,0.0975,0.015,0.015,0.0975,0.075,0.03,0.075,0.03,0.075,0.03,0.075,0.1,0.03,0.1]\n",
    "    \n",
    "    elif(string == \"window\"):\n",
    "        \n",
    "        return [0.1,0.5,0.1,0.1,0.5,0.1]\n",
    "    else:\n",
    "        print(\"Error In typing the string. I can only generate doors or windows\")\n",
    "        exit()"
   ]
  },
  {
   "cell_type": "markdown",
   "metadata": {
    "collapsed": true
   },
   "source": [
    "the following function is supplementary to the program, and has the function of generating the third parameter to be passed to the main function."
   ]
  },
  {
   "cell_type": "code",
   "execution_count": 5,
   "metadata": {
    "collapsed": true
   },
   "outputs": [],
   "source": [
    "def generate_Z(string):\n",
    "    \n",
    "    \"\"\"\n",
    "    given a string, returns the input examples values with respect to the z axis.\n",
    "    It is the third parameter of generates_window / door function\n",
    "    \"\"\"\n",
    "    \n",
    "    if(string == \"door\"):\n",
    "        \n",
    "         return [0.15,0.1,0.1,0.3,0.03,0.3,0.03,0.3,0.1,0.1,0.03,0.25,0.03,0.1]\n",
    "    \n",
    "    elif(string == \"window\"):\n",
    "        \n",
    "        return [0.05,1,0.05]\n",
    "    else:\n",
    "        print(\"Error In typing the string. I can only generate doors or windows\")\n",
    "        exit()"
   ]
  },
  {
   "cell_type": "markdown",
   "metadata": {
    "collapsed": true
   },
   "source": [
    "the following function is supplementary to the program, and has the function of generating the forth parameter to be passed to the main function."
   ]
  },
  {
   "cell_type": "code",
   "execution_count": 6,
   "metadata": {
    "collapsed": true
   },
   "outputs": [],
   "source": [
    "def generate_occupancy(string):\n",
    "    \n",
    "    \"\"\"\n",
    "    given a string, returns the input examples values of a 3D boolean matrix (-1 is accepted too).\n",
    "    It is the fourth parameter of generates_window / door function\n",
    "    \"\"\"\n",
    "\n",
    "    if(string == \"door\"):    \n",
    "    \n",
    "        return [ [[1,1],[0,1],[0,1],[0,1],[0,1],[0,1],[0,1],[0,1],[0,1],[0,1],[0,1],[0,1],[0,1],[0,1],[0,1],[0,1],[0,1],[0,1],[0,1],[0,1],[0,1],[0,1],[0,1],[1,1]],\n",
    "                 [[1,1],[0,1],[0,1],[1,1],[1,1],[1,1],[1,1],[1,1],[1,1],[1,1],[0,1],[0,1],[0,1],[0,1],[1,1],[1,1],[1,1],[1,1],[1,1],[1,1],[1,1],[0,1],[0,1],[1,1]],\n",
    "                 [[1,1],[0,1],[0,1],[0,1],[0,1],[0,1],[0,1],[0,1],[0,1],[0,1],[0,1],[0,1],[0,1],[0,1],[0,1],[0,1],[0,1],[0,1],[0,1],[0,1],[0,1],[0,1],[0,1],[1,1]],           \n",
    "                 [[1,1],[0,1],[0,1],[0,-1],[0,-1],[0,-1],[0,1],[0,-1],[0,-1],[0,-1],[0,1],[0,1],[0,1],[0,1],[0,-1],[0,-1],[0,-1],[0,1],[0,-1],[0,-1],[0,-1],[0,1],[0,1],[1,1]],             \n",
    "                 [[1,1],[0,1],[0,1],[0,1],[0,1],[0,1],[0,1],[0,1],[0,1],[0,1],[0,1],[0,1],[0,1],[0,1],[0,1],[0,1],[0,1],[0,1],[0,1],[0,1],[0,1],[0,1],[0,1],[1,1]],\n",
    "                 [[1,1],[0,1],[0,1],[0,-1],[0,-1],[0,-1],[0,1],[0,-1],[0,-1],[0,-1],[0,1],[0,1],[0,1],[0,1],[0,-1],[0,-1],[0,-1],[0,1],[0,-1],[0,-1],[0,-1],[0,1],[0,1],[1,1]],\n",
    "                 [[1,1],[0,1],[0,1],[0,1],[0,1],[0,1],[0,1],[0,1],[0,1],[0,1],[0,1],[0,1],[0,1],[0,1],[0,1],[0,1],[0,1],[0,1],[0,1],[0,1],[0,1],[0,1],[0,1],[1,1]],\n",
    "                 [[1,1],[0,1],[0,1],[0,-1],[0,-1],[0,-1],[0,1],[0,-1],[0,-1],[0,-1],[0,1],[0,1],[0,1],[0,1],[0,-1],[0,-1],[0,-1],[0,1],[0,-1],[0,-1],[0,-1],[0,1],[0,1],[1,1]],\n",
    "                 [[1,1],[0,1],[0,1],[0,1],[0,1],[0,1],[0,1],[0,1],[0,1],[0,1],[0,1],[0,1],[0,1],[0,1],[0,1],[0,1],[0,1],[0,1],[0,1],[0,1],[0,1],[0,1],[0,1],[1,1]],\n",
    "                 [[1,1],[1,1],[1,1],[1,1],[1,1],[1,1],[1,1],[1,1],[1,1],[1,1],[1,1],[1,1],[1,1],[1,1],[1,1],[1,1],[1,1],[1,1],[1,1],[1,1],[1,1],[1,1],[1,1],[1,1]],\n",
    "                 [[1,1],[0,1],[0,1],[0,1],[0,1],[0,1],[0,1],[0,1],[0,1],[0,1],[0,1],[0,1],[0,1],[0,1],[0,1],[0,1],[0,1],[0,1],[0,1],[0,1],[0,1],[0,1],[0,1],[1,1]],            \n",
    "                 [[1,1],[0,1],[0,-1],[0,-1],[0,1],[0,-1],[0,-1],[0,-1],[0,1],[0,-1],[0,-1],[0,1],[0,1],[0,-1],[0,-1],[0,1],[0,-1],[0,-1],[0,-1],[0,1],[0,-1],[0,-1],[0,1],[1,1]],          \n",
    "                 [[1,1],[0,1],[0,1],[0,1],[0,1],[0,1],[0,1],[0,1],[0,1],[0,1],[0,1],[0,1],[0,1],[0,1],[0,1],[0,1],[0,1],[0,1],[0,1],[0,1],[0,1],[0,1],[0,1],[1,1]],             \n",
    "                 [[1,1],[1,1],[1,1],[1,1],[1,1],[1,1],[1,1],[1,1],[1,1],[1,1],[1,1],[1,1],[1,1],[1,1],[1,1],[1,1],[1,1],[1,1],[1,1],[1,1],[1,1],[1,1],[1,1],[1,1]] ]\n",
    "    \n",
    "    elif(string == \"window\"):\n",
    "\n",
    "        return [[[1],[1],[1],[1],[1],[1]],[[1],[-1],[1],[1],[-1],[1]],[[1],[1],[1],[1],[1],[1]]]\n",
    "    \n",
    "    else:\n",
    "        print(\"Error In typing the string. I can only generate doors or windows\")\n",
    "        exit()"
   ]
  },
  {
   "cell_type": "markdown",
   "metadata": {
    "collapsed": true
   },
   "source": [
    "as already anticipated above, two examples of input that receives the program. additional functions created, return the size compared to an object's axis with respect to the input string that I went through. If I had not written either \"door\", neither \"window\", the program would crash. It is a minimum on the input control, which in any case does not go to resolve the fact that I could write a \"door\" in a function and \"window\" on the other, but is not necessary and useful also handle this."
   ]
  },
  {
   "cell_type": "code",
   "execution_count": 7,
   "metadata": {
    "collapsed": false
   },
   "outputs": [
    {
     "data": {
      "text/plain": [
       "<pyplasm.xgepy.Hpc; proxy of <Swig Object of type 'std::shared_ptr< Hpc > *' at 0x0000000004F89510> >"
      ]
     },
     "execution_count": 7,
     "metadata": {},
     "output_type": "execute_result"
    }
   ],
   "source": [
    "mydoor = generates_door(generate_X(\"door\"),generate_Y(\"door\"),generate_Z(\"door\"),generate_occupancy(\"door\"))(0.2,2,2)\n",
    "VIEW(mydoor)\n",
    "\n",
    "mywindow = generates_window(generate_X(\"window\"),generate_Y(\"window\"),generate_Z(\"window\"),generate_occupancy(\"window\"))(0.2,1.5,1.3)\n",
    "VIEW(mywindow)"
   ]
  },
  {
   "cell_type": "markdown",
   "metadata": {
    "collapsed": true
   },
   "source": [
    "# OUTPUT: SOME IMAGE FOR BOTH EXAMPLE."
   ]
  },
  {
   "cell_type": "markdown",
   "metadata": {},
   "source": [
    "[![Immagine6.png](https://s20.postimg.org/5wj8xnt1p/Immagine6.png)](https://postimg.org/image/rvpnkv9vt/)"
   ]
  },
  {
   "cell_type": "markdown",
   "metadata": {},
   "source": [
    "[![Immagine5.png](https://s20.postimg.org/8pcghote5/Immagine5.png)](https://postimg.org/image/nlazpa4sp/)"
   ]
  },
  {
   "cell_type": "markdown",
   "metadata": {
    "collapsed": true
   },
   "source": [
    "[![Immagine1.png](https://s20.postimg.org/8k8p80m31/Immagine1.png)](https://postimg.org/image/ac1o2x5ft/)"
   ]
  },
  {
   "cell_type": "markdown",
   "metadata": {
    "collapsed": true
   },
   "source": [
    "[![Immagine2.png](https://s20.postimg.org/4p5b5g2x9/Immagine2.png)](https://postimg.org/image/n4ps2uh1l/)"
   ]
  },
  {
   "cell_type": "markdown",
   "metadata": {
    "collapsed": true
   },
   "source": [
    "[![Immagine3.png](https://s20.postimg.org/yicbe1rkd/Immagine3.png)](https://postimg.org/image/65gtnl5u1/)"
   ]
  },
  {
   "cell_type": "markdown",
   "metadata": {
    "collapsed": true
   },
   "source": [
    "[![Immagine4.png](https://s20.postimg.org/7yjqbwr0t/Immagine4.png)](https://postimg.org/image/kpxwif0sp/)"
   ]
  }
 ],
 "metadata": {
  "kernelspec": {
   "display_name": "Python 2",
   "language": "python",
   "name": "python2"
  },
  "language_info": {
   "codemirror_mode": {
    "name": "ipython",
    "version": 2
   },
   "file_extension": ".py",
   "mimetype": "text/x-python",
   "name": "python",
   "nbconvert_exporter": "python",
   "pygments_lexer": "ipython2",
   "version": "2.7.12"
  }
 },
 "nbformat": 4,
 "nbformat_minor": 1
}
