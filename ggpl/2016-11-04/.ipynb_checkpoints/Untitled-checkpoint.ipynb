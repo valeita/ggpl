{
 "cells": [
  {
   "cell_type": "markdown",
   "metadata": {
    "collapsed": false
   },
   "source": [
    "# WORKSHOP_04\n",
    "\n",
    "# This is a Python project for RomaTre University in Geometric & Graphics Programming Lab. by Alberto Paoluzzi.\n",
    "\n",
    "## Description: \n",
    "\n",
    "The following project addresses given as input a HPC (ie a set of vertices and cells), to build a roof of a house in a dynamic way. fundamental constraints to be respected is the fact that the roof must found to show the outside filled, while the empty basic level, giving us the chance to see the inside of the roof, including beams.\n",
    "\n",
    "\n",
    "## The program builds the final solution by following these intermediate steps:\n",
    "### 1)  Create the skeleton of the roof\n",
    "### 2)  Create skel_2 of the roof (without creating inner faces) and eliminating the basic plan\n",
    "### 3)  Uniting the two parts"
   ]
  },
  {
   "cell_type": "markdown",
   "metadata": {
    "collapsed": true
   },
   "source": [
    "One of the main function is to create the right parameters to be included in MKPOL function, once you have cleaned the intermediate points"
   ]
  },
  {
   "cell_type": "code",
   "execution_count": 10,
   "metadata": {
    "collapsed": true
   },
   "outputs": [],
   "source": [
    "def correctMKPOL(internalPoints, verts, cells):\n",
    "    \"\"\"\n",
    "    the following function has the task of, data Vertex\n",
    "    and cells, and of the points to be deleted, deleted from the\n",
    "    list of vertices, the leaders considered internal, and readjust\n",
    "    the lists of the cells according to the points eliminated\n",
    "    \"\"\"\n",
    "    listIndex = []\n",
    "    cont = 1\n",
    "    newVerts = []\n",
    "    newCells = []\n",
    "    finish = 0\n",
    "    \n",
    "    for i in verts:\n",
    "\n",
    "        finish = 0\n",
    "        \n",
    "        for j in internalPoints:\n",
    "\n",
    "            if(j==i):\n",
    "\n",
    "                listIndex.append(cont)\n",
    "                finish = 1\n",
    "                \n",
    "        if(finish == 0):\n",
    "\n",
    "            newVerts.append(i)    \n",
    "        cont = cont +1\n",
    "    \n",
    "    downCounter = 0\n",
    "    \n",
    "    for i in cells:\n",
    "        newCell = []\n",
    "        for j in i:\n",
    "\n",
    "            if(research(listIndex,j) == 0):\n",
    "\n",
    "                newCell.append(j-downCounter)\n",
    "            else:\n",
    "                downCounter = downCounter +1\n",
    "                \n",
    "        if(len(newCell)!=0):\n",
    "            \n",
    "            newCells.append(newCell)\n",
    "          \n",
    "    \n",
    "    return [newVerts,newCells]"
   ]
  },
  {
   "cell_type": "markdown",
   "metadata": {
    "collapsed": true
   },
   "source": [
    "A secondary function and Boolean searching for an item in a list"
   ]
  },
  {
   "cell_type": "code",
   "execution_count": 11,
   "metadata": {
    "collapsed": true
   },
   "outputs": [],
   "source": [
    "def research(list, x):\n",
    "    \"\"\"\n",
    "    the following function has the task to return true if\n",
    "    the given input element, is present within the list\n",
    "    \"\"\"\n",
    "    for i in list:\n",
    "\n",
    "        if(x==i):\n",
    "\n",
    "            return 1\n",
    "    return 0 "
   ]
  },
  {
   "cell_type": "markdown",
   "metadata": {
    "collapsed": true
   },
   "source": [
    "This function is unnecessary and has been used to give a parametric input to the program to make the verifications"
   ]
  },
  {
   "cell_type": "code",
   "execution_count": 12,
   "metadata": {
    "collapsed": true
   },
   "outputs": [],
   "source": [
    "def create_mkpol_roof(x,y,z):\n",
    "    \"\"\"\n",
    "    the following function has the task of creating\n",
    "    an HPC or a MKPOL in which there will be the vertices\n",
    "    and the cells that will form our roof\n",
    "    \"\"\"\n",
    "    roof = MKPOL([ [[0,0,0],[0,y,0],[x/5,y/2.0,z],[(x/(5.0))*4,y/2.0,z],[x,y,0],[x,0,0],[x/5,y/2.0,0],[(x/(5.0))*4,y/2.0,0]],[[6,5,4,3,2,1],[7,2,3,1],[5,6,4,8],[7,8]],1])\n",
    "\n",
    "    return roof"
   ]
  },
  {
   "cell_type": "markdown",
   "metadata": {
    "collapsed": true
   },
   "source": [
    "This function is considered as the main located the points inside and the points that are part of the basis of the roof plan"
   ]
  },
  {
   "cell_type": "code",
   "execution_count": 13,
   "metadata": {
    "collapsed": true
   },
   "outputs": [],
   "source": [
    "def searchInternalPoints(pointsList):\n",
    "    \"\"\"\n",
    "    the following function has the task of searching the internal\n",
    "    points within our structure. they will be the points having coordinates\n",
    "    with respect to the axes x, y that are neither minimum nor maximum, and\n",
    "    that have a different altitude than the maximum.\n",
    "    \"\"\"\n",
    "    xMIN = 0\n",
    "    yMIN = 0\n",
    "    zMIN = 0\n",
    "    \n",
    "    listGood = []\n",
    "    listBad = []\n",
    "    listaBase = []\n",
    "    listaMax = searchMax(pointsList)\n",
    "\n",
    "    for i in pointsList:\n",
    "\n",
    "        if(i[0] == xMIN or i[0] == listaMax[0]):\n",
    "\n",
    "            listGood.append(i)\n",
    "            listaBase.append(i)\n",
    "\n",
    "        elif(i[1] == yMIN or i[1] == listaMax[1]):\n",
    "\n",
    "            listGood.append(i)\n",
    "            listaBase.append(i)\n",
    "            \n",
    "        elif(i[2] != zMIN):\n",
    "\n",
    "            listGood.append(i)\n",
    "            \n",
    "        else:\n",
    "\n",
    "            listBad.append(i)\n",
    "    \n",
    "    return [listBad,listaBase]"
   ]
  },
  {
   "cell_type": "markdown",
   "metadata": {
    "collapsed": true
   },
   "source": [
    "This method is to support searchInternalPoints as is the maximum and minimum values ​​on the coordinates x y and z"
   ]
  },
  {
   "cell_type": "code",
   "execution_count": 14,
   "metadata": {
    "collapsed": true
   },
   "outputs": [],
   "source": [
    "def searchMax(pointsList):\n",
    "    \"\"\"\n",
    "    the following function has the task of finding the maximum coordinates of vertices\n",
    "    \"\"\"\n",
    "    xMAX = 0\n",
    "    yMAX = 0\n",
    "    zMAX = 0\n",
    "\n",
    "    for i in pointsList:\n",
    "\n",
    "        if(i[0] > xMAX):\n",
    "\n",
    "            xMAX=i[0]\n",
    "            \n",
    "        if(i[1] > yMAX):\n",
    "\n",
    "            yMAX=i[1]\n",
    "\n",
    "        if(i[2] > zMAX):\n",
    "\n",
    "            zMAX=i[2]\n",
    "\n",
    "    return [xMAX,yMAX,zMAX]"
   ]
  },
  {
   "cell_type": "markdown",
   "metadata": {
    "collapsed": true
   },
   "source": [
    "This method eliminate redundant points after he was executed on UKPOL hpc taken as input"
   ]
  },
  {
   "cell_type": "code",
   "execution_count": 15,
   "metadata": {
    "collapsed": true
   },
   "outputs": [],
   "source": [
    "def eliminateRedundance(points):\n",
    "    \"\"\"\n",
    "    the following function has the task\n",
    "    to eliminate redundancies, because in\n",
    "    fact dell'UKPOL, which returns a set of redundant points\n",
    "    \"\"\"\n",
    "    \n",
    "    list = []\n",
    "    for i in points:\n",
    "\n",
    "        if(research(list,i) == 0):\n",
    "\n",
    "            list.append(i)\n",
    "        \n",
    "    return list"
   ]
  },
  {
   "cell_type": "markdown",
   "metadata": {},
   "source": [
    "this method is secondary, and support the creation of the second argument which is inserted inside a MKPOL"
   ]
  },
  {
   "cell_type": "code",
   "execution_count": 16,
   "metadata": {
    "collapsed": true
   },
   "outputs": [],
   "source": [
    "def generateSecondArgument(basePoints):\n",
    "    \"\"\"\n",
    "    the following function has the task of generating the second\n",
    "    argument of a MKPOL. This can be done statically and does not\n",
    "    affect the program's dynamism\n",
    "    \"\"\"\n",
    "    list = []\n",
    "    i=1\n",
    "    while(i<len(basePoints)+1):\n",
    "\n",
    "        list.append(i)\n",
    "        \n",
    "        i=i+1\n",
    "    return list"
   ]
  },
  {
   "cell_type": "markdown",
   "metadata": {},
   "source": [
    "The main function:\n",
    "\n",
    "It performs processes data and performs the main intermediate steps which were explained at the beginning.\n",
    "1) The first operation is to create the structure of a skeleton of the roof\n",
    "2) I perform on hpc UKPOL, and eliminate redundancies\n",
    "3) Looking for the inner points, and those of the basic plan of the roof\n",
    "4) Generate the faces of our object hpc\n",
    "5) eliminate the base face\n",
    "6) unite the two sides, producing the final result"
   ]
  },
  {
   "cell_type": "code",
   "execution_count": 17,
   "metadata": {
    "collapsed": false
   },
   "outputs": [],
   "source": [
    "from pyplasm import *\n",
    "\n",
    "def ggpl_my_roof_builder(hpc):\n",
    "    \"\"\"\n",
    "    the following function has the task of managing\n",
    "    and invoke all the functions described below.\n",
    "    It takes as input a hpc, or a mkpol of vertices and cells.\n",
    "    \"\"\"\n",
    "    \n",
    "    BaseStructure = SKEL_1(hpc)\n",
    "    BaseStructure = OFFSET([0.1,0.1,0.1])(BaseStructure)\n",
    "    pointsList=[]\n",
    "    pointsList = UKPOL(hpc)\n",
    "\n",
    "    verts=pointsList[0]\n",
    "    cells = pointsList[1]\n",
    "    \n",
    "    vertsDiversi = eliminateRedundance(verts)\n",
    "    \n",
    "    points = searchInternalPoints(vertsDiversi)\n",
    "    internalPoints = points[0]\n",
    "    basePoints = points[1]\n",
    "\n",
    "    arg = generateSecondArgument(basePoints)\n",
    "    plane = MKPOL([basePoints,[arg],1])\n",
    "    plane = SKEL_2(plane)\n",
    "    plane = OFFSET([0.1,0.1,0.1])(plane)\n",
    "    \n",
    "    correctedPoints = correctMKPOL(internalPoints,verts,cells)\n",
    "    correctedVerts = correctedPoints[0]\n",
    "    correctedCells = correctedPoints[1]\n",
    "    \n",
    "    \n",
    "    planes = MKPOL([correctedVerts,correctedCells,1])\n",
    "    planes = SKEL_2(planes)\n",
    "    planes = OFFSET([0.1,0.1,0.1])(planes)\n",
    "    \n",
    "    roof = DIFFERENCE([planes,plane])\n",
    "    roof = UNION([roof,BaseStructure])\n",
    "\n",
    "    VIEW(roof)\n",
    "    \n",
    "    \n",
    "    return roof"
   ]
  },
  {
   "cell_type": "markdown",
   "metadata": {},
   "source": [
    "The program has been tested with this input"
   ]
  },
  {
   "cell_type": "code",
   "execution_count": 18,
   "metadata": {
    "collapsed": false
   },
   "outputs": [
    {
     "data": {
      "text/plain": [
       "<pyplasm.xgepy.Hpc; proxy of <Swig Object of type 'std::shared_ptr< Hpc > *' at 0x000000000B012660> >"
      ]
     },
     "execution_count": 18,
     "metadata": {},
     "output_type": "execute_result"
    }
   ],
   "source": [
    "ggpl_my_roof_builder(create_mkpol_roof(10,4,2))"
   ]
  },
  {
   "cell_type": "markdown",
   "metadata": {},
   "source": [
    "# OUTPUTS:"
   ]
  },
  {
   "cell_type": "markdown",
   "metadata": {},
   "source": [
    "[![Immagine1.png](https://s20.postimg.org/86cdhzvt9/Immagine1.png)](https://postimg.org/image/6ejen3cg9/"
   ]
  },
  {
   "cell_type": "markdown",
   "metadata": {},
   "source": [
    "[![Immagine2.png](https://s20.postimg.org/ysou6z00d/Immagine2.png)](https://postimg.org/image/fau6r132h/)"
   ]
  },
  {
   "cell_type": "markdown",
   "metadata": {},
   "source": [
    "[![Immagine3.png](https://s20.postimg.org/ezcqe9mml/Immagine3.png)](https://postimg.org/image/i679xw72h/)"
   ]
  },
  {
   "cell_type": "markdown",
   "metadata": {},
   "source": [
    "A representation Much more \"presentable\" the final RESULT, and Also Very characteristic, RESULT nsulation of the final skeleton display:\n",
    "[![Immagine4.png](https://s20.postimg.org/twl7f9zv1/Immagine4.png)](https://postimg.org/image/y5pxhg349/)"
   ]
  }
 ],
 "metadata": {
  "kernelspec": {
   "display_name": "Python 2",
   "language": "python",
   "name": "python2"
  },
  "language_info": {
   "codemirror_mode": {
    "name": "ipython",
    "version": 2
   },
   "file_extension": ".py",
   "mimetype": "text/x-python",
   "name": "python",
   "nbconvert_exporter": "python",
   "pygments_lexer": "ipython2",
   "version": "2.7.12"
  }
 },
 "nbformat": 4,
 "nbformat_minor": 1
}
