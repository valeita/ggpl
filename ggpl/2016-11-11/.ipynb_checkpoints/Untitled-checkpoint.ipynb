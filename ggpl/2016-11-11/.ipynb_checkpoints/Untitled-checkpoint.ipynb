{
 "cells": [
  {
   "cell_type": "markdown",
   "metadata": {},
   "source": [
    "# WORKSHOP_05\n",
    "\n",
    "# This is a Python project for RomaTre University in Geometric & Graphics Programming Lab. by Alberto Paoluzzi.\n",
    "\n",
    "## Description:\n",
    "\n",
    "the following code provides for the creation of a project that I consider for my original point of view, and I hope to be appreciated as such.\n",
    "Taken into input 3 parameters, just the x coordinate, y and z of a space, inside of which will be generated dynamically, a beauty cabin, just the one in the workplace of my girlfriend.\n",
    "In the cabin there is a piece of furniture, cabinets with shelves, a trolley for tools, and a cot used for massage to customers."
   ]
  },
  {
   "cell_type": "markdown",
   "metadata": {},
   "source": [
    "[![IMG_20161114_WA0001.jpg](https://s20.postimg.org/4iakhz2kt/IMG_20161114_WA0001.jpg)](https://postimg.org/image/5kkr0ile1/)"
   ]
  },
  {
   "cell_type": "markdown",
   "metadata": {},
   "source": [
    "[![IMG_20161114_WA0002.jpg](https://s20.postimg.org/p3pc9vk5p/IMG_20161114_WA0002.jpg)](https://postimg.org/image/urvn0roi1/)"
   ]
  },
  {
   "cell_type": "markdown",
   "metadata": {},
   "source": [
    "[![IMG_20161114_WA0003.jpg](https://s20.postimg.org/j41l67zd9/IMG_20161114_WA0003.jpg)](https://postimg.org/image/i1renogjt/)"
   ]
  },
  {
   "cell_type": "markdown",
   "metadata": {},
   "source": [
    "## The Main Function:\n",
    "the main function, it builds the set of elements that andaranno to characterize the room. the method invokes each individual function that returns the single element. It takes in input the x,y and z size of the room."
   ]
  },
  {
   "cell_type": "code",
   "execution_count": 25,
   "metadata": {
    "collapsed": false
   },
   "outputs": [],
   "source": [
    "from pyplasm import *\n",
    "from larlib import *\n",
    "\n",
    "def ggpl_my_furniture(dx,dy,dz):\n",
    "    \"\"\"\n",
    "    the following function takes as input 3 parameters, the x, y, and z of the\n",
    "    space available.Processes information, and invoking the underlying methods,\n",
    "    builds the room by placing the right components.\n",
    "    \"\"\"\n",
    "    if (check_input == 0): return\n",
    "    \n",
    "    room = OFFSET([0.01,0.01,0.01])(SKEL_1(CUBOID([dx,dy,dz])))\n",
    "    door = OFFSET([0.01,0.01,0.01])(create_door(dx,dy,dz))\n",
    "    \n",
    "    cabinet = create_cabinet(dx,dy,dz)\n",
    "    lockers = create_lockers(dx,dy,dz)\n",
    "    cart = create_cart(dx,dy,dz)\n",
    "    cot = create_cot(dx,dy,dz)\n",
    "\n",
    "    filledRoom = COLOR(Color4f([126/255., 78/255., 40/255., 1]))(STRUCT([room,cabinet,lockers,door,cart,cot]))\n",
    "    VIEW (filledRoom)\n",
    "    \n",
    "    return filledRoom"
   ]
  },
  {
   "cell_type": "markdown",
   "metadata": {},
   "source": [
    "### A check for the input:\n",
    "the following code performs a check on the input size.\n",
    "Any size would be acceptable, but not always produce appreciable results, graphs, why a check is made to limit them to the standard size"
   ]
  },
  {
   "cell_type": "code",
   "execution_count": 26,
   "metadata": {
    "collapsed": true
   },
   "outputs": [],
   "source": [
    "def check_input(dx,dy,dz):\n",
    "    \"\"\"\n",
    "    the following function takes as input 3 parameters, the x, y, and z of the\n",
    "    space available. performs a check on the size.\n",
    "    \"\"\"\n",
    "    finish = 1\n",
    "    \n",
    "    if(dx>2 or dx<1):\n",
    "        print(\"lenght size not valid.\"\n",
    "              + \"ideal size between one meter and two meters\\n\")\n",
    "        finish = 0\n",
    "\n",
    "    if(dy>3 or dy<2):\n",
    "        print(\"width size not valid.\"\n",
    "              + \"ideal size between two meters and three meters\\n\")\n",
    "        finish = 0\n",
    "\n",
    "    if(dz>4 or dz<3):\n",
    "        print(\"quote size not valid.\"\n",
    "              + \"ideal size between two meters and three meters\\n\")\n",
    "        finish = 0\n",
    "\n",
    "    return finish"
   ]
  },
  {
   "cell_type": "markdown",
   "metadata": {},
   "source": [
    "### The Cabinet:\n",
    "the following code creates the furniture inside the room. it is constituted by a base, a longer shelf above,\n",
    "ideally used to temporarily lay of work tools."
   ]
  },
  {
   "cell_type": "code",
   "execution_count": 27,
   "metadata": {
    "collapsed": true
   },
   "outputs": [],
   "source": [
    "def create_cabinet(dx,dy,dz):\n",
    "    \"\"\"\n",
    "    the following function takes as input 3 parameters, the x, y, and z of the\n",
    "    space available. creates cabinet inside the room.\n",
    "    \"\"\"\n",
    "    list = []\n",
    "    h_tot = (dz/7.0)*2.0\n",
    "    lun_shelf = dx/7.0\n",
    "    larg_shelf = dy\n",
    "    h_shelf = h_tot/10.0\n",
    "    \n",
    "    h_cabinet = (h_tot/10.0)*9.0\n",
    "    larg_cabinet = dy\n",
    "    lun_cabinet = dx/10.0\n",
    "\n",
    "    init_dx_1 = dx-lun_cabinet\n",
    "    init_dx_2 = dx-lun_shelf\n",
    "\n",
    "    list.append(T(1)(init_dx_1)(SKEL_1(CUBOID([lun_cabinet,larg_cabinet,h_cabinet]))))\n",
    "    list.append(T(1)(init_dx_1)(CUBOID([lun_cabinet,larg_cabinet,h_cabinet])))\n",
    "    \n",
    "    list.append(T([1,3])([init_dx_2,h_cabinet])(SKEL_1(CUBOID([lun_shelf,larg_shelf,h_shelf]))))\n",
    "    list.append(T([1,3])([init_dx_2,h_cabinet])(CUBOID([lun_shelf,larg_shelf,h_shelf])))\n",
    "\n",
    "    return STRUCT(list)"
   ]
  },
  {
   "cell_type": "markdown",
   "metadata": {},
   "source": [
    "### The Lockers:\n",
    "il seguente codice realizza degli armadietti, e tra essi dei ripiani. essi saranno posti nella parete al centro, una volta entrati nella stanza."
   ]
  },
  {
   "cell_type": "code",
   "execution_count": 28,
   "metadata": {
    "collapsed": true
   },
   "outputs": [],
   "source": [
    "def create_lockers(dx,dy,dz):\n",
    "    \"\"\"\n",
    "    the following function takes as input 3 parameters, the x, y, and z of the.\n",
    "    space available. creates the lockers.\n",
    "    \"\"\"\n",
    "    larg_lockers = dy/3.0\n",
    "    h_lockers = dz/3.0\n",
    "    lun_lockers = dx/10.0\n",
    "    \n",
    "    larg2_locker = (larg_lockers/7.0)*2.0\n",
    "    larg_plane = (larg_lockers/7.0)*3.0\n",
    "    h_plane = h_lockers/30.0\n",
    "    h_locker = h_lockers-(2.0*(h_plane))\n",
    "    list = []\n",
    "\n",
    "    list.append(SKEL_1(CUBOID([lun_lockers,larg_lockers,h_plane])))\n",
    "    list.append(CUBOID([lun_lockers,larg_lockers,h_plane]))\n",
    "    \n",
    "    list.append(T(3)(h_lockers-h_plane)(SKEL_1(CUBOID([lun_lockers,larg_lockers,h_plane]))))\n",
    "    list.append(T(3)(h_lockers-h_plane)(CUBOID([lun_lockers,larg_lockers,h_plane])))\n",
    "    \n",
    "    list.append(T(3)(h_plane)(SKEL_1(CUBOID([lun_lockers,larg2_locker,h_locker]))))\n",
    "    list.append(T(3)(h_plane)(CUBOID([lun_lockers,larg2_locker,h_locker])))\n",
    "    \n",
    "    list.append(T([2,3])([larg_lockers-larg2_locker,h_plane])(SKEL_1(CUBOID([lun_lockers,larg2_locker,h_locker]))))\n",
    "    list.append(T([2,3])([larg_lockers-larg2_locker,h_plane])(CUBOID([lun_lockers,larg2_locker,h_locker])))\n",
    "\n",
    "    list.append(T([1,2,3])([-(larg2_locker/25.0),larg_lockers-(larg2_locker)+(3*h_plane),3*h_plane])(CUBOID([larg2_locker/10.0,larg2_locker/10.0,larg2_locker/10.0])))\n",
    "    list.append(T([1,2,3])([-(larg2_locker/25.0),larg_lockers-(larg2_locker)+(3*h_plane),3*h_plane])(SKEL_1(CUBOID([larg2_locker/10.0,larg2_locker/10.0,larg2_locker/10.0]))))\n",
    "#\n",
    "    list.append(T([1,2,3])([-(larg2_locker/25.0),larg_lockers-(larg2_locker)+(3*h_plane),3*h_plane])(CUBOID([larg2_locker/10.0,larg2_locker/10.0,larg2_locker/10.0])))\n",
    "    list.append(T([1,2,3])([-(larg2_locker/25.0),(larg2_locker)-(3*h_plane),3*h_plane])(SKEL_1(CUBOID([larg2_locker/10.0,larg2_locker/10.0,larg2_locker/10.0]))))\n",
    "#\n",
    "    list.append(T([2,3])([larg2_locker,h_locker/3.0])(SKEL_1(CUBOID([lun_lockers,larg_plane,h_plane]))))\n",
    "    list.append(T([2,3])([larg2_locker,h_locker/3.0])(CUBOID([lun_lockers,larg_plane,h_plane])))\n",
    "    \n",
    "    list.append(T([2,3])([larg2_locker,(h_locker/3.0)*2])(SKEL_1(CUBOID([lun_lockers,larg_plane,h_plane]))))\n",
    "    list.append(T([2,3])([larg2_locker,(h_locker/3.0)*2])(CUBOID([lun_lockers,larg_plane,h_plane])))\n",
    "    \n",
    "    structure = (STRUCT(list))\n",
    "\n",
    "    list_s = []\n",
    "    list_s.append(T([1,2,3])([dx-lun_lockers,dy/3.0,(dz/10.0)*5.0])(structure))\n",
    "    \n",
    "    return STRUCT(list_s)"
   ]
  },
  {
   "cell_type": "markdown",
   "metadata": {},
   "source": [
    "### The door:\n",
    "the next code, create the skeleton of a door, and places it, to give an idea of the position in which it enters, and of how objects are positioned with respect to this."
   ]
  },
  {
   "cell_type": "code",
   "execution_count": 29,
   "metadata": {
    "collapsed": true
   },
   "outputs": [],
   "source": [
    "def create_door(dx,dy,dz):\n",
    "\n",
    "    \"\"\"\n",
    "    the following function takes as input 3 parameters, the x, y, and z of the\n",
    "    space available. creates a port.\n",
    "    \"\"\"\n",
    "    larg_door = dy/5.0\n",
    "    h_door = dz/2.0\n",
    "    list = []\n",
    "    list.append(T(2)((dy/5)*3))\n",
    "    list.append(SKEL_1(CUBOID([0,larg_door,h_door])))\n",
    "    list.append(SKEL_1(T([2,3])([(larg_door/5),h_door/2])(CUBOID([0,larg_door/10.0,larg_door/10.0]))))\n",
    "    \n",
    "    return STRUCT(list)"
   ]
  },
  {
   "cell_type": "markdown",
   "metadata": {},
   "source": [
    "### The Cart:\n",
    "This method builds the trolley positioned to the left of the massage table. on it you will be placed numerous work tools useful during the session. His greatness has to be functional, for this will not overly big, but not too small."
   ]
  },
  {
   "cell_type": "code",
   "execution_count": 30,
   "metadata": {
    "collapsed": true
   },
   "outputs": [],
   "source": [
    "def create_cart(dx,dy,dz):\n",
    "    \"\"\"\n",
    "    the following function takes as input 3 parameters, the x, y, and z of the\n",
    "    space available. It creates a cart.\n",
    "    \"\"\"\n",
    "    larg_cart = dy/6.0\n",
    "    lun_cart = (dx/7.0)*2.0\n",
    "    h_cart = dz/3.0\n",
    "    h_cart_reduced = (h_cart/10.0)*8.0\n",
    "    h_leg = h_cart/5.0\n",
    "    \n",
    "    list = []\n",
    "    \n",
    "    list.append(T(3)(h_leg)(CUBOID([lun_cart,larg_cart/30.0,h_cart-h_leg])))\n",
    "    list.append(T(3)(h_leg)(SKEL_1(CUBOID([lun_cart,larg_cart/30.0,h_cart-h_leg]))))\n",
    "    \n",
    "    list.append(T([2,3])([larg_cart/30,h_leg])(CUBOID([lun_cart/30.0,larg_cart-(larg_cart/30.0),h_cart-h_leg])))\n",
    "    list.append(T([2,3])([larg_cart/30,h_leg])(SKEL_1(CUBOID([lun_cart/30.0,larg_cart-(larg_cart/30.0),h_cart-h_leg]))))\n",
    "    \n",
    "    list.append(T([1,2,3])([lun_cart-(lun_cart/30.0),larg_cart/30.0,h_leg])(CUBOID([lun_cart/30.0,larg_cart-(larg_cart/30.0),h_cart-h_leg])))\n",
    "    list.append(T([1,2,3])([lun_cart-(lun_cart/30.0),larg_cart/30.0,h_leg])(SKEL_1(CUBOID([lun_cart/30.0,larg_cart-(larg_cart/30.0),h_cart-h_leg]))))\n",
    "    \n",
    "    list.append(T([1,2,3])([lun_cart/30.0,larg_cart/30.0,h_leg])(CUBOID([lun_cart-(2.0*(lun_cart/30.0)),larg_cart-(larg_cart/30.0),h_cart/30.0])))\n",
    "    list.append(T([1,2,3])([lun_cart/30.0,larg_cart/30.0,h_leg])(SKEL_1(CUBOID([lun_cart-(2*(lun_cart/30.0)),larg_cart-(larg_cart/30.0),h_cart/30.0]))))\n",
    "\n",
    "    list.append(T([1,2,3])([lun_cart/30.0,larg_cart/30.0,h_leg+(h_cart_reduced/3)])(CUBOID([lun_cart-(2.0*(lun_cart/30.0)),larg_cart-(larg_cart/30.0),h_cart/30.0])))\n",
    "    list.append(T([1,2,3])([lun_cart/30.0,larg_cart/30.0,h_leg+(h_cart_reduced/3)])(SKEL_1(CUBOID([lun_cart-(2*(lun_cart/30.0)),larg_cart-(larg_cart/30.0),h_cart/30.0]))))\n",
    "\n",
    "    list.append(T([1,2,3])([lun_cart/30.0,larg_cart/30.0,h_leg+((h_cart_reduced/3)*2)])(CUBOID([lun_cart-(2.0*(lun_cart/30.0)),larg_cart-(larg_cart/30.0),h_cart/30.0])))\n",
    "    list.append(T([1,2,3])([lun_cart/30.0,larg_cart/30.0,h_leg+((h_cart_reduced/3)*2)])(SKEL_1(CUBOID([lun_cart-(2*(lun_cart/30.0)),larg_cart-(larg_cart/30.0),h_cart/30.0]))))\n",
    "\n",
    "    list.append(CUBOID([lun_cart/6,larg_cart/6,h_leg]))\n",
    "    list.append(SKEL_1(CUBOID([lun_cart/6,larg_cart/6,h_leg])))\n",
    "    \n",
    "    list.append(T(1)(lun_cart-(lun_cart/6))(CUBOID([lun_cart/6,larg_cart/6,h_leg])))\n",
    "    list.append(T(1)(lun_cart-(lun_cart/6))(SKEL_1(CUBOID([lun_cart/6,larg_cart/6,h_leg]))))\n",
    "    \n",
    "    list.append(T(2)(larg_cart-(larg_cart/6))(CUBOID([lun_cart/6,larg_cart/6,h_leg])))\n",
    "    list.append(T(2)(larg_cart-(larg_cart/6))(SKEL_1(CUBOID([lun_cart/6,larg_cart/6,h_leg]))))\n",
    "\n",
    "    list.append(T([1,2])([lun_cart-(lun_cart/6),larg_cart-(larg_cart/6)])(CUBOID([lun_cart/6,larg_cart/6,h_leg])))\n",
    "    list.append(T([1,2])([lun_cart-(lun_cart/6),larg_cart-(larg_cart/6)])(SKEL_1(CUBOID([lun_cart/6,larg_cart/6,h_leg]))))\n",
    "\n",
    "    structure = STRUCT(list)\n",
    "    structure = S(2)(-1)(structure)\n",
    "    list2 = []\n",
    "    list2.append(T([1,2])([dx/2.0-lun_cart/2.0,dy])(structure))\n",
    "    \n",
    "    return STRUCT(list2)"
   ]
  },
  {
   "cell_type": "markdown",
   "metadata": {},
   "source": [
    "### The Cot:\n",
    "The code performs the last element, the most important: the massage table. It will be constituted by a flat part, a more inclined. Below the table, a shelf whose function is like that of other also functional."
   ]
  },
  {
   "cell_type": "code",
   "execution_count": 31,
   "metadata": {
    "collapsed": true
   },
   "outputs": [],
   "source": [
    "def create_cot(dx,dy,dz):\n",
    "    \"\"\"\n",
    "    the following function takes as input 3 parameters, the x, y, and z of the\n",
    "    space available. It creates a cot\n",
    "    \"\"\"\n",
    "    lun_cot = (dx/7.0)+ (dx/14)*3\n",
    "    larg_cot = dy-(dy/5.0 + dy/10.0)\n",
    "    h_cot = dz/3.0\n",
    "\n",
    "    h_reduced = h_cot/2.0\n",
    "    \n",
    "    list = []\n",
    "\n",
    "    list.append(T(3)(h_reduced)(CUBOID([lun_cot,(larg_cot/3)*2,h_reduced/5.0])))\n",
    "    list.append(T(3)(h_reduced)(SKEL_1(CUBOID([lun_cot,(larg_cot/3)*2,h_reduced/5.0]))))\n",
    "    \n",
    "    list.append(CUBOID([lun_cot/6.0,lun_cot/6.0,h_cot/2.0]))\n",
    "    list.append(SKEL_1(CUBOID([lun_cot/6.0,lun_cot/6.0,h_cot/2.0])))\n",
    "    \n",
    "    list.append(T(1)(lun_cot-(lun_cot/6.0))(CUBOID([lun_cot/6.0,lun_cot/6.0,h_cot/2.0])))\n",
    "    list.append(T(1)(lun_cot-(lun_cot/6.0))(SKEL_1(CUBOID([lun_cot/6.0,lun_cot/6.0,h_cot/2.0]))))\n",
    "    \n",
    "    list.append(T([1,2])([lun_cot-(lun_cot/6.0),(larg_cot/3.0)*2.0-lun_cot/6.0])(CUBOID([lun_cot/6.0,lun_cot/6.0,h_cot/2.0])))\n",
    "    list.append(T([1,2])([lun_cot-(lun_cot/6.0),(larg_cot/3.0)*2.0-lun_cot/6.0])(SKEL_1(CUBOID([lun_cot/6.0,lun_cot/6.0,h_cot/2.0]))))\n",
    "    \n",
    "    list.append(T(2)((larg_cot/3.0)*2-lun_cot/6.0)(CUBOID([lun_cot/6.0,lun_cot/6.0,h_cot/2.0])))\n",
    "    list.append(T(2)((larg_cot/3.0)*2-lun_cot/6.0)(SKEL_1(CUBOID([lun_cot/6.0,lun_cot/6.0,h_cot/2.0]))))\n",
    "\n",
    "    list.append(T([1,3])([lun_cot/6.0,h_reduced/2.0])(CUBOID([lun_cot-(2*(lun_cot/6.0)),(larg_cot/3.0)*2.0-(lun_cot/6.0),h_reduced/10.0])))\n",
    "    list.append(T([1,3])([lun_cot/6.0,h_reduced/2.0])(SKEL_1(CUBOID([lun_cot-(2*(lun_cot/6.0)),(larg_cot/3.0)*2.0-(lun_cot/6.0),h_reduced/10.0]))))\n",
    "    coord = []\n",
    "    coord.append([0,(larg_cot/3)*2,(h_cot/2.0)+h_reduced/5])\n",
    "    coord.append([lun_cot,(larg_cot/3)*2,h_cot/2.0+(h_reduced/5.0)])\n",
    "    coord.append([lun_cot,(larg_cot/3)*2,h_cot/2.0])\n",
    "    coord.append([0,(larg_cot/3)*2,h_cot/2.0])\n",
    "    coord.append([0,((larg_cot/3)*2)+(larg_cot/3.0),h_cot/2.0+((h_reduced/5.0)*4)])\n",
    "    coord.append([0,((larg_cot/3)*2)+(larg_cot/3.0),(h_cot/2.0)+(h_reduced/5)+(h_reduced/5.0)*4])\n",
    "    coord.append([lun_cot,((larg_cot/3)*2)+(larg_cot/3.0),h_cot/2.0+(h_reduced/5.0)*4])\n",
    "    coord.append([lun_cot,((larg_cot/3)*2)+(larg_cot/3.0),h_cot/2.0+(h_reduced/5.0)+(h_reduced/5.0)*4])\n",
    "    \n",
    "    plane = (MKPOL([coord,[[1,2,3,4,5,6,7,8]],[[1]]]))\n",
    "    list.append(plane)\n",
    "    list.append(SKEL_1(plane))\n",
    "    structure = S(2)(-1)(STRUCT(list))\n",
    "    structure = T([1,2])([dx/2-(lun_cot/2),larg_cot+dy/20])(structure)\n",
    "    \n",
    "    return structure"
   ]
  },
  {
   "cell_type": "markdown",
   "metadata": {},
   "source": [
    "The calling of the main function, with a valid input."
   ]
  },
  {
   "cell_type": "code",
   "execution_count": 32,
   "metadata": {
    "collapsed": false
   },
   "outputs": [
    {
     "data": {
      "text/plain": [
       "<pyplasm.xgepy.Hpc; proxy of <Swig Object of type 'std::shared_ptr< Hpc > *' at 0x0000000004D507E0> >"
      ]
     },
     "execution_count": 32,
     "metadata": {},
     "output_type": "execute_result"
    }
   ],
   "source": [
    "ggpl_my_furniture(1.5,2.5,2.0)"
   ]
  },
  {
   "cell_type": "markdown",
   "metadata": {},
   "source": [
    "# OUTPUT IMAGES:"
   ]
  },
  {
   "cell_type": "markdown",
   "metadata": {},
   "source": [
    "[![Immagine3.png](https://s20.postimg.org/p1urw5olp/Immagine3.png)](https://postimg.org/image/czze20fd5/)"
   ]
  },
  {
   "cell_type": "markdown",
   "metadata": {},
   "source": [
    "[![Immagine2.png](https://s20.postimg.org/688yz5qdp/Immagine2.png)](https://postimg.org/image/zan91zcnd/)"
   ]
  },
  {
   "cell_type": "markdown",
   "metadata": {},
   "source": [
    "[![Immagine.png](https://s20.postimg.org/42eo4nmx9/Immagine.png)](https://postimg.org/image/4f62au56x/)"
   ]
  }
 ],
 "metadata": {
  "kernelspec": {
   "display_name": "Python 2",
   "language": "python",
   "name": "python2"
  },
  "language_info": {
   "codemirror_mode": {
    "name": "ipython",
    "version": 2
   },
   "file_extension": ".py",
   "mimetype": "text/x-python",
   "name": "python",
   "nbconvert_exporter": "python",
   "pygments_lexer": "ipython2",
   "version": "2.7.12"
  }
 },
 "nbformat": 4,
 "nbformat_minor": 1
}
