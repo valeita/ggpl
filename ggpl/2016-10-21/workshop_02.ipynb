{
 "cells": [
  {
   "cell_type": "code",
   "execution_count": null,
   "metadata": {
    "collapsed": true
   },
   "outputs": [],
   "source": [
    "<img class=\"irc_mi iADdHUt6QpWQ-pQOPx8XEepE\" alt=\"Risultati immagini per edificio scheletro\" style=\"margin-top: 13px;\" \n",
    "src=\"http://www.comune.napoli.it/flex/images/GalleryPlus/D.73563809402349323e8e/3_2007_lo_scheletro_dell__edificio_centrale.jpg\" \n",
    "onload=\"google.aft&amp;&amp;google.aft(this)\" width=\"550\" height=\"367\">"
   ]
  },
  {
   "cell_type": "markdown",
   "metadata": {},
   "source": [
    "il seguente metodo di nome ggpl_bone_structure prende in input il file, esegue il parse delle righe lette immagazzinando\n",
    "all' interno di liste e variabili ciò che viene letto"
   ]
  },
  {
   "cell_type": "code",
   "execution_count": null,
   "metadata": {
    "collapsed": true
   },
   "outputs": [],
   "source": [
    "from pyplasm import *\n",
    "from workshop01 import *\n",
    "import csv\n",
    "\n",
    "def ggpl_bone_structure(file_name):\n",
    "\n",
    "    totalFrameList=[]\n",
    "    paramFrame=[]\n",
    "    file = open(file_name,'r')\n",
    "    spamreader = csv.reader(file)\n",
    "    frame = []\n",
    "    traslx = []\n",
    "    \n",
    "    for row in spamreader:\n",
    "\n",
    "        dimPillar = []\n",
    "        dimBeam = []\n",
    "        hPillars = []\n",
    "        widthsBeams = []\n",
    "        i=0\n",
    "        j=0\n",
    "        l1=0\n",
    "        l2=0\n",
    "        \n",
    "        if(len(row) == 3):\n",
    "\n",
    "            traslx.append(int(row[0]))\n",
    "            \n",
    "        else:\n",
    "            \n",
    "            dimBeam.append(int(row[0]))\n",
    "            dimBeam.append(int(row[1]))\n",
    "            dimPillar.append(int(row[2]))\n",
    "            dimPillar.append(int(row[3]))\n",
    "\n",
    "            index = 4\n",
    "            l1=int(row[index])\n",
    "            while i<int(row[4]):\n",
    "\n",
    "                index = index + 1\n",
    "                i=i+1\n",
    "                hPillars.append(int(row[index]))\n",
    "                \n",
    "            index = index+1\n",
    "            t=index\n",
    "            l2=int(row[index])\n",
    "            while j<int(row[t]):\n",
    "\n",
    "                index = index + 1\n",
    "                j=j+1\n",
    "                widthsBeams.append(int(row[index]))\n",
    "            \n",
    "            frame.append(gabbia(dimBeam,dimPillar,l1,hPillars,l2,widthsBeams))\n",
    "            paramFrame.append(dimBeam)\n",
    "            paramFrame.append(dimPillar)\n",
    "            paramFrame.append(l1)\n",
    "            paramFrame.append(hPillars)\n",
    "            paramFrame.append(l2)\n",
    "            paramFrame.append(widthsBeams)\n",
    "            totalFrameList.append(paramFrame)"
   ]
  },
  {
   "cell_type": "code",
   "execution_count": null,
   "metadata": {
    "collapsed": true
   },
   "outputs": [],
   "source": [
    "nel seguente frammento, il nostro metodo principale invoca due funzioni che avranno il compito di costruire il disegno finale.\n"
   ]
  },
  {
   "cell_type": "code",
   "execution_count": null,
   "metadata": {
    "collapsed": true
   },
   "outputs": [],
   "source": [
    "skeleton = buildStructure(frame,traslx)\n",
    "    beams = buildStructureBeams(frame, traslx, skeleton,totalFrameList[0][0],totalFrameList[0][1],totalFrameList[0][2],totalFrameList[0][3],totalFrameList[0][4],totalFrameList[0][5])\n",
    "\n",
    "    building = STRUCT([skeleton,beams])\n",
    "\n",
    "    VIEW(building)"
   ]
  },
  {
   "cell_type": "markdown",
   "metadata": {},
   "source": [
    "il successivo codice illusrato è il metodo che si occupa di replicare i telai e di traslarli rispetto all'origine."
   ]
  },
  {
   "cell_type": "code",
   "execution_count": null,
   "metadata": {
    "collapsed": true
   },
   "outputs": [],
   "source": [
    "def buildStructure(frame, translations):\n",
    "     \n",
    "    skeleton = []\n",
    "    index=0\n",
    "    j=0\n",
    "    for i in frame:\n",
    "\n",
    "        skeleton.append(T(1)(translations[j]))\n",
    "        skeleton.append(i)\n",
    "        j=j+1\n",
    "        \n",
    "    return STRUCT(skeleton)"
   ]
  },
  {
   "cell_type": "markdown",
   "metadata": {},
   "source": [
    "l'ultimo metodo, si occupa di creare i piani da inserire all'interno dell'edificio."
   ]
  },
  {
   "cell_type": "code",
   "execution_count": null,
   "metadata": {
    "collapsed": true
   },
   "outputs": [],
   "source": [
    "def buildStructureBeams(frame, traslx, skeleton, dimBeam, dimPillar,l1,hPillars,l2,widthsBeams):\n",
    "\n",
    "    ax=[]\n",
    "    ay=[]\n",
    "    az=[]\n",
    "    i=0\n",
    "    beams = []\n",
    "\n",
    "    while i<len(frame)-1:\n",
    "\n",
    "        \n",
    "        ax.append(-dimPillar[0])\n",
    "        var = traslx[i+1]-dimPillar[0]\n",
    "        ax.append(var)\n",
    "        i=i+1\n",
    "        \n",
    "    for j in hPillars:\n",
    "\n",
    "         az.append(-j)\n",
    "         az.append(dimBeam[1])\n",
    "         \n",
    "    for k in widthsBeams:\n",
    "\n",
    "         ay.append(k)\n",
    "         ay.append(dimPillar[1])\n",
    "\n",
    "    p1 = QUOTE(ax)\n",
    "    p2= QUOTE(ay)\n",
    "    p3 = QUOTE(az)\n",
    "\n",
    "    d=PROD([p1,p2])\n",
    "    beams.append(PROD([d,p3]))\n",
    "\n",
    "    return STRUCT(beams)"
   ]
  },
  {
   "cell_type": "markdown",
   "metadata": {},
   "source": [
    "infine, l'invocazione della funzione principale."
   ]
  },
  {
   "cell_type": "code",
   "execution_count": null,
   "metadata": {
    "collapsed": true
   },
   "outputs": [],
   "source": [
    "ggpl_bone_structure(\"frame_data_000000.csv\")"
   ]
  }
 ],
 "metadata": {
  "kernelspec": {
   "display_name": "Python 2",
   "language": "python",
   "name": "python2"
  },
  "language_info": {
   "codemirror_mode": {
    "name": "ipython",
    "version": 2
   },
   "file_extension": ".py",
   "mimetype": "text/x-python",
   "name": "python",
   "nbconvert_exporter": "python",
   "pygments_lexer": "ipython2",
   "version": "2.7.12"
  }
 },
 "nbformat": 4,
 "nbformat_minor": 1
}
