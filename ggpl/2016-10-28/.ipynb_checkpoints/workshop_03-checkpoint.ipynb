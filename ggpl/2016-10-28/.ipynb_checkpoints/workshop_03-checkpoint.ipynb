{
 "cells": [
  {
   "cell_type": "markdown",
   "metadata": {},
   "source": [
    "# WORKSHOP_03\n",
    "\n",
    "# This is a Python project for RomaTre University in Geometric & Graphics Programming Lab. by Alberto Paoluzzi.\n",
    "\n",
    "\n",
    "### Descrizione:\n",
    "\n",
    "il progetto consiste nella creazione di una scala.\n",
    "dati in input tre parametri x y e z che corrispondono alle dimensioni di un parallelepipedo in\n",
    "lunghezza, larghezza e altezza, generare al suo interno una scala che la contiene."
   ]
  },
  {
   "cell_type": "markdown",
   "metadata": {},
   "source": [
    "[![download.jpg](https://s20.postimg.org/6lj5k56ml/download.jpg)](https://postimg.org/image/jcxbqngeh/)"
   ]
  },
  {
   "cell_type": "markdown",
   "metadata": {},
   "source": [
    "il codice successivo, rappresenta la creazione di una rampa, e quindi di un numero di gradini. Si ricorda che il numero di\n",
    "essi dipende dalle dimensioni in input e saranno generati dinamicamente"
   ]
  },
  {
   "cell_type": "markdown",
   "metadata": {},
   "source": [
    "This function must build the main structure of the ramp."
   ]
  },
  {
   "cell_type": "code",
   "execution_count": 30,
   "metadata": {
    "collapsed": true
   },
   "outputs": [],
   "source": [
    "def generate_pillars(stepX,stepY,stepZ,dx,dy,dz,bool):\n",
    "\n",
    "    stepX = stepX/2.\n",
    "    stepY = stepY/2.\n",
    "    stepZ = stepZ/2.\n",
    "    \n",
    "    pillars = []\n",
    "    pillars.append(T(2)(-stepX)(CUBOID([stepX,stepX,dz])))\n",
    "    pillars.append(T([1,2])([(dx/4)-stepX,-stepX])(CUBOID([stepX,stepX,dz])))\n",
    "    pillars.append(T([1,2])([(dx/4)-stepX,dy])(CUBOID([stepX,stepX,dz])))\n",
    "    pillars.append(T(2)(dy)(CUBOID([stepX,stepX,dz])))\n",
    "\n",
    "    pillars = STRUCT(pillars)\n",
    "    \n",
    "    pill = []\n",
    "    pill.append(T(2)(-stepX)(CUBOID([stepX,stepX,dz/2.])))\n",
    "    pill.append(T([1,2])([(dx/4)-stepX,-stepX])(CUBOID([stepX,stepX,dz/2.])))\n",
    "    pill.append(T([1,2])([(dx/4)-stepX,dy])(CUBOID([stepX,stepX,dz/2.])))\n",
    "    pill.append(T(2)(dy)(CUBOID([stepX,stepX,dz/2.])))\n",
    "\n",
    "    pill = T(1)((dx/4)*3)(STRUCT(pill))\n",
    "    \n",
    "    if(bool != 1):\n",
    "\n",
    "        temp = T(3)(dz/2.)(pill)\n",
    "        pill = STRUCT([pill,temp])\n",
    "        \n",
    "        \n",
    "        \n",
    "    return STRUCT([pillars,pill])"
   ]
  },
  {
   "cell_type": "code",
   "execution_count": 31,
   "metadata": {
    "collapsed": true
   },
   "outputs": [],
   "source": [
    "def generatesRamp(numSteps,stepX, stepY, stepZ,dx):\n",
    "    \n",
    "    i=0\n",
    "    listSteps=[]\n",
    "    complete = []\n",
    "    floorX = 0\n",
    "    floorZ = 0\n",
    "    traslx = 0\n",
    "    traslz = 0\n",
    "\n",
    "    while i<numSteps:\n",
    "\n",
    "        listSteps.append(T([1,3])([traslx,traslz]))\n",
    "        listSteps.append(CUBOID([stepX,stepY,stepZ]))\n",
    "        if(i<numSteps-1):\n",
    "            complete.append(MKPOL([[[traslx+stepX,0,traslz],[traslx+stepX,0,traslz+stepZ],[traslx+(2*stepX),0,traslz+stepZ],[traslx+stepX,stepY,traslz],[traslx+stepX,stepY,traslz+stepZ],[traslx+(2*stepX),stepY,traslz+stepZ]],[[1,2,3,4,5,6]],[1]]))\n",
    "            complete.append(T([1,3])([traslx,traslz]))\n",
    "        traslx = stepX\n",
    "        traslz = stepZ\n",
    "        floorX = floorX + stepX\n",
    "        floorZ = floorZ + stepZ\n",
    "        i=i+1\n",
    "    \n",
    "    return [T(1)(dx/4.)(STRUCT([STRUCT(listSteps),STRUCT(complete)])),floorX,floorZ]"
   ]
  },
  {
   "cell_type": "markdown",
   "metadata": {},
   "source": [
    "il codice che seguirà, si occuperà invece della creazione di un piano. la scala infatti sarà costituita da due rampe, e da un piano intermedio che le unirà."
   ]
  },
  {
   "cell_type": "code",
   "execution_count": 32,
   "metadata": {
    "collapsed": true
   },
   "outputs": [],
   "source": [
    "def genera_piano(traslx,traslz,dx,dy,dz,stepX,stepZ):\n",
    "\n",
    "    floor = []\n",
    "\n",
    "    floor.append(T([1,3])([traslx+(dx/4.),traslz-stepZ]))\n",
    "    floor.append(CUBOID([dx-(traslx+(dx/4.)),dy,stepZ]))\n",
    "    return STRUCT(floor)"
   ]
  },
  {
   "cell_type": "markdown",
   "metadata": {},
   "source": [
    "quest'altro metodo invece traslerà delle opportune grandezze, la rampa appena riflessa. ecco la seconda rampa."
   ]
  },
  {
   "cell_type": "markdown",
   "metadata": {},
   "source": [
    "questo metodo genera il secondo piano della rampa di scale."
   ]
  },
  {
   "cell_type": "code",
   "execution_count": 33,
   "metadata": {
    "collapsed": true
   },
   "outputs": [],
   "source": [
    "def genera_secondo_piano(traslx,traslz,dx,dy,dz,stepX,stepZ):\n",
    "\n",
    "\n",
    "    floor = []\n",
    "    floor.append(T(3)(dz-stepZ))                        \n",
    "    floor.append(CUBOID([dx-(((dx/4.)*2)+(dx/4.)),dy,stepZ]))\n",
    "                        \n",
    "    return STRUCT(floor)"
   ]
  },
  {
   "cell_type": "code",
   "execution_count": 34,
   "metadata": {
    "collapsed": true
   },
   "outputs": [],
   "source": [
    "def movesRampReflected(ramp,traslx,traslz,dx,dy,dz,stepY,stepZ):\n",
    "    \n",
    "    rampReflected = []\n",
    "    rampReflected.append(S(1)(-1))\n",
    "    rampReflected.append(T([1,2,3])([-traslx-(2*(dx/4.)),dy-stepY,dz/2.-(stepZ/2.)]))\n",
    "    rampReflected.append(ramp)\n",
    "    return STRUCT(rampReflected)"
   ]
  },
  {
   "cell_type": "markdown",
   "metadata": {},
   "source": [
    "ultimo metodo è check. questo metodo eseguirà un controllo sull'angolo che sarà calcolato come l'arcotangente dell'altezza\n",
    "diviso la lunghezza che si sta prendendo in considerazione per la creazione di una rampa e la generazione dinamica di un numero N di gradini.\n",
    "questo angolo deve essere oscillare tra i 30° e i 35°"
   ]
  },
  {
   "cell_type": "code",
   "execution_count": 35,
   "metadata": {
    "collapsed": true
   },
   "outputs": [],
   "source": [
    "def check(hHalved,xReduced):\n",
    "\n",
    "    angle=ATAN(hHalved/xReduced)\n",
    "    angle = (angle/3.14)*180\n",
    "    \n",
    "    if(30<angle<35):\n",
    "        \n",
    "        return 100\n",
    "    return angle"
   ]
  },
  {
   "cell_type": "markdown",
   "metadata": {},
   "source": [
    "la funzione principale dunque:\n",
    "il metodo elabora i parametri in input, e invoca i metodi precedentemente descritti, ed elabora le informazioni, restituendo\n",
    "un HPC come risultato finale."
   ]
  },
  {
   "cell_type": "code",
   "execution_count": 36,
   "metadata": {
    "collapsed": false
   },
   "outputs": [],
   "source": [
    "from pyplasm import *\n",
    "\n",
    "def ggpl_building_stairs_with_landings(dx, dy, dz,bool):\n",
    "    \"\"\"i parametri in input sono:\n",
    "    1)la dimensione su x del complesso totale\n",
    "    2)la dimensione su y del complesso totale\n",
    "    3)la dimensione su z del complesso totale\n",
    "    \"\"\"\n",
    "    hHalved = (dz/2.0)\n",
    "    hHalved = hHalved -(hHalved/60.)\n",
    "    xReduced = (dx/4.0)*2\n",
    "\n",
    "    angle = check(hHalved,xReduced)\n",
    "    \n",
    "    if (angle != 100):\n",
    "        print(\"dimensioni non valide.\")\n",
    "        print(\" angolo \" + str(angle) + \" non compreso tra 30 gradi e 35 gradi\")\n",
    "        print(\"inserire delle dimensioni valide\")\n",
    "        return -1\n",
    "    \n",
    "    comparisonAP = hHalved/xReduced\n",
    "    stepZ = (0.63*comparisonAP)/((2.0*comparisonAP)+1.0)\n",
    "    numSteps= round(hHalved/stepZ)\n",
    "    stepX = (0.63-(2.0*stepZ))\n",
    "    stepY = (dy/7.0)*3.0\n",
    "\n",
    "    \n",
    "    values = generatesRamp(numSteps, stepX, stepY, stepZ,dx)\n",
    "    floor = genera_piano(values[1],values[2],dx,dy,dz,stepX,stepZ)\n",
    "    ramp2 = movesRampReflected(values[0],values[1],values[2],dx,dy,dz,stepY,stepZ)\n",
    "    second_floor = genera_secondo_piano(values[1],values[2],dx,dy,dz,stepX,stepZ)\n",
    "    pillars = generate_pillars(stepX,stepY,stepZ,dx,dy,dz,bool)\n",
    "    project = STRUCT([values[0],ramp2,floor,second_floor,pillars])\n",
    "    VIEW(project)\n",
    "    return project"
   ]
  },
  {
   "cell_type": "markdown",
   "metadata": {},
   "source": [
    "un'invocazione funzionante che crea esattamente un angolo accettabile e un ottimo risultato grafico:\n",
    "esattamente diano in input 4 metri in lunghezza, 4 metri in larghezza e 5,5 metri in altezza."
   ]
  },
  {
   "cell_type": "code",
   "execution_count": 37,
   "metadata": {
    "collapsed": false
   },
   "outputs": [
    {
     "data": {
      "text/plain": [
       "<pyplasm.xgepy.Hpc; proxy of <Swig Object of type 'std::shared_ptr< Hpc > *' at 0x0000000007CD51E0> >"
      ]
     },
     "execution_count": 37,
     "metadata": {},
     "output_type": "execute_result"
    }
   ],
   "source": [
    "ggpl_building_stairs_with_landings(3.6,4,2.5,1)"
   ]
  },
  {
   "cell_type": "markdown",
   "metadata": {},
   "source": [
    "# OUTPUT:\n",
    "\n",
    "[![rampa.png](https://s2.postimg.org/3t0ntpocp/rampa.png)](https://postimg.org/image/opwvydmdh/)"
   ]
  }
 ],
 "metadata": {
  "kernelspec": {
   "display_name": "Python 2",
   "language": "python",
   "name": "python2"
  },
  "language_info": {
   "codemirror_mode": {
    "name": "ipython",
    "version": 2
   },
   "file_extension": ".py",
   "mimetype": "text/x-python",
   "name": "python",
   "nbconvert_exporter": "python",
   "pygments_lexer": "ipython2",
   "version": "2.7.12"
  }
 },
 "nbformat": 4,
 "nbformat_minor": 1
}
