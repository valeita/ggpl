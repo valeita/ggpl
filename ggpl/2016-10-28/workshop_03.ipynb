{
 "cells": [
  {
   "cell_type": "markdown",
   "metadata": {},
   "source": [
    "# WORKSHOP_03\n",
    "\n",
    "# This is a Python project for RomaTre University in Geometric & Graphics Programming Lab. by Alberto Paoluzzi.\n",
    "\n",
    "\n",
    "### Descrizione:\n",
    "\n",
    "il progetto consiste nella creazione di una scala.\n",
    "dati in input tre parametri x y e z che corrispondono alle dimensioni di un parallelepipedo in\n",
    "lunghezza, larghezza e altezza, generare al suo interno una scala che la contiene."
   ]
  },
  {
   "cell_type": "markdown",
   "metadata": {},
   "source": [
    "[![download.jpg](https://s20.postimg.org/6lj5k56ml/download.jpg)](https://postimg.org/image/jcxbqngeh/)"
   ]
  },
  {
   "cell_type": "markdown",
   "metadata": {},
   "source": [
    "il codice successivo, rappresenta la creazione di una rampa, e quindi di un numero di gradini. Si ricorda che il numero di\n",
    "essi dipende dalle dimensioni in input e saranno generati dinamicamente"
   ]
  },
  {
   "cell_type": "code",
   "execution_count": 1,
   "metadata": {
    "collapsed": true
   },
   "outputs": [],
   "source": [
    "def generatesRamp(numSteps,StepX, stepY, stepZ):\n",
    "    \n",
    "    i=0\n",
    "    listSteps=[]\n",
    "    traslx = 0\n",
    "    traslz = 0\n",
    "\n",
    "    while i<numSteps:\n",
    "\n",
    "        listSteps.append(T([1,3])([traslx,traslz]))\n",
    "        listSteps.append(CUBOID([StepX,stepY,stepZ]))\n",
    "        traslx = StepX\n",
    "        traslz = stepZ\n",
    "        i=i+1\n",
    "    return STRUCT(listSteps)"
   ]
  },
  {
   "cell_type": "markdown",
   "metadata": {},
   "source": [
    "il codice che seguirà, si occuperà invece della creazione di un piano. la scala infatti sarà costituita da due rampe, e da un piano intermedio che le unirà."
   ]
  },
  {
   "cell_type": "code",
   "execution_count": 2,
   "metadata": {
    "collapsed": true
   },
   "outputs": [],
   "source": [
    "def generafloor(hHalved,xReduced,floorX,dy,stepZ):\n",
    "\n",
    "    floorY=dy\n",
    "    floorZ=stepZ\n",
    "\n",
    "    floor = []\n",
    "    floor.append(T([1,3])([(xReduced),hHalved-stepZ]))\n",
    "    floor.append(CUBOID([floorX,floorY,floorZ]))\n",
    "    return STRUCT(floor)"
   ]
  },
  {
   "cell_type": "markdown",
   "metadata": {},
   "source": [
    "questo metodo, prenderà la prima rampa e la rifletterà rispetto all'asse x. ben presto questa rampa riflessa, sarà esattamente la seconda."
   ]
  },
  {
   "cell_type": "code",
   "execution_count": 3,
   "metadata": {
    "collapsed": true
   },
   "outputs": [],
   "source": [
    "def reflectRamp(ramp):\n",
    "\n",
    "    rampReflected = [S(1)(-1),ramp]\n",
    "    \n",
    "    return STRUCT(rampReflected)"
   ]
  },
  {
   "cell_type": "markdown",
   "metadata": {},
   "source": [
    "quest'altro metodo invece traslerà delle opportune grandezze, la rampa appena riflessa. ecco la seconda rampa."
   ]
  },
  {
   "cell_type": "code",
   "execution_count": 4,
   "metadata": {
    "collapsed": true
   },
   "outputs": [],
   "source": [
    "def movesRampReflected(rampReflected, xReduced, hHalved, dy):\n",
    "\n",
    "    ramp2 = []\n",
    "    ramp2.append(T([1,2,3])([(xReduced),((dy*4)/7),hHalved]))\n",
    "    ramp2.append(rampReflected)\n",
    "    return STRUCT(ramp2)"
   ]
  },
  {
   "cell_type": "markdown",
   "metadata": {},
   "source": [
    "ultimo metodo è check. questo metodo eseguirà un controllo sull'angolo che sarà calcolato come l'arcotangente dell'altezza\n",
    "diviso la lunghezza che si sta prendendo in considerazione per la creazione di una rampa e la generazione dinamica di un numero N di gradini.\n",
    "questo angolo deve essere oscillare tra i 30° e i 35°"
   ]
  },
  {
   "cell_type": "code",
   "execution_count": 5,
   "metadata": {
    "collapsed": true
   },
   "outputs": [],
   "source": [
    "def check(hHalved,xReduced):\n",
    "\n",
    "    angle=ATAN(hHalved/xReduced)\n",
    "    angle = (angle/3.14)*180\n",
    "    \n",
    "    if(30<angle<35):\n",
    "        \n",
    "        return 100\n",
    "    return angle"
   ]
  },
  {
   "cell_type": "markdown",
   "metadata": {},
   "source": [
    "la funzione principale dunque:\n",
    "il metodo elabora i parametri in input, e invoca i metodi precedentemente descritti, ed elabora le informazioni, restituendo\n",
    "un HPC come risultato finale."
   ]
  },
  {
   "cell_type": "code",
   "execution_count": 6,
   "metadata": {
    "collapsed": true
   },
   "outputs": [],
   "source": [
    "def ggpl_building_stairs_with_landings(dx, dy, dz):\n",
    "    \"\"\"i parametri in input sono:\n",
    "    1)la dimensione su x del complesso totale\n",
    "    2)la dimensione su y del complesso totale\n",
    "    3)la dimensione su z del complesso totale\n",
    "    le 3 dimensioni sono espresse in metri.\n",
    "    la costruzione della scala è basata sulla formula 2a+p = 0.63 metri, dove\n",
    "    a=alzata del gradino, p=pedata del gradino\n",
    "    \"\"\"\n",
    "    hHalved = dz/2.0\n",
    "    xReduced = (dx/3.0)*2.0\n",
    "    angle = check(hHalved,xReduced)\n",
    "    \n",
    "    if (angle != 100):\n",
    "        print(\"dimensioni non valide.\")\n",
    "        print(\" angolo \" + str(angle) + \" non compreso tra 30 gradi e 35 gradi\")\n",
    "        print(\"inserire delle dimensioni valide\")\n",
    "        return -1\n",
    "    xReduced = (dx/3.0)*2.0\n",
    "    floorX = dx/3.0\n",
    "    comparisonAP = hHalved/xReduced\n",
    "    stepZ = (0.63*comparisonAP)/((2.0*comparisonAP)+1.0)\n",
    "    numSteps= round(hHalved/stepZ)\n",
    "    StepX = (0.63-(2.0*stepZ))\n",
    "    stepY = (dy/7.0)*3.0\n",
    "\n",
    "    \n",
    "    ramp = generatesRamp(numSteps, StepX, stepY, stepZ)\n",
    "    floor = generafloor(hHalved,xReduced,floorX,dy,stepZ)\n",
    "    rampReflected = reflectRamp(ramp)\n",
    "    ramp2 = movesRampReflected(rampReflected,xReduced, hHalved, dy)\n",
    "    Reference = SKEL_1(CUBOID([dx,dy,dz]))  \n",
    "    project = STRUCT([ramp,ramp2,Reference,floor]) \n",
    "    VIEW(project)\n",
    "    return 1"
   ]
  },
  {
   "cell_type": "markdown",
   "metadata": {},
   "source": [
    "un'invocazione funzionante che crea esattamente un angolo accettabile e un ottimo risultato grafico:\n",
    "esattamente diano in input 4 metri in lunghezza, 4 metri in larghezza e 5,5 metri in altezza."
   ]
  },
  {
   "cell_type": "code",
   "execution_count": 7,
   "metadata": {
    "collapsed": false
   },
   "outputs": [
    {
     "ename": "NameError",
     "evalue": "global name 'ATAN' is not defined",
     "output_type": "error",
     "traceback": [
      "\u001b[0;31m---------------------------------------------------------------------------\u001b[0m",
      "\u001b[0;31mNameError\u001b[0m                                 Traceback (most recent call last)",
      "\u001b[0;32m<ipython-input-7-5090563c735a>\u001b[0m in \u001b[0;36m<module>\u001b[0;34m()\u001b[0m\n\u001b[0;32m----> 1\u001b[0;31m \u001b[0mggpl_building_stairs_with_landings\u001b[0m\u001b[1;33m(\u001b[0m\u001b[1;36m4\u001b[0m\u001b[1;33m,\u001b[0m\u001b[1;36m4\u001b[0m\u001b[1;33m,\u001b[0m\u001b[1;36m5.5\u001b[0m\u001b[1;33m)\u001b[0m\u001b[1;33m\u001b[0m\u001b[0m\n\u001b[0m",
      "\u001b[0;32m<ipython-input-6-299726476013>\u001b[0m in \u001b[0;36mggpl_building_stairs_with_landings\u001b[0;34m(dx, dy, dz)\u001b[0m\n\u001b[1;32m     10\u001b[0m     \u001b[0mhHalved\u001b[0m \u001b[1;33m=\u001b[0m \u001b[0mdz\u001b[0m\u001b[1;33m/\u001b[0m\u001b[1;36m2.0\u001b[0m\u001b[1;33m\u001b[0m\u001b[0m\n\u001b[1;32m     11\u001b[0m     \u001b[0mxReduced\u001b[0m \u001b[1;33m=\u001b[0m \u001b[1;33m(\u001b[0m\u001b[0mdx\u001b[0m\u001b[1;33m/\u001b[0m\u001b[1;36m3.0\u001b[0m\u001b[1;33m)\u001b[0m\u001b[1;33m*\u001b[0m\u001b[1;36m2.0\u001b[0m\u001b[1;33m\u001b[0m\u001b[0m\n\u001b[0;32m---> 12\u001b[0;31m     \u001b[0mangle\u001b[0m \u001b[1;33m=\u001b[0m \u001b[0mcheck\u001b[0m\u001b[1;33m(\u001b[0m\u001b[0mhHalved\u001b[0m\u001b[1;33m,\u001b[0m\u001b[0mxReduced\u001b[0m\u001b[1;33m)\u001b[0m\u001b[1;33m\u001b[0m\u001b[0m\n\u001b[0m\u001b[1;32m     13\u001b[0m \u001b[1;33m\u001b[0m\u001b[0m\n\u001b[1;32m     14\u001b[0m     \u001b[1;32mif\u001b[0m \u001b[1;33m(\u001b[0m\u001b[0mangle\u001b[0m \u001b[1;33m!=\u001b[0m \u001b[1;36m100\u001b[0m\u001b[1;33m)\u001b[0m\u001b[1;33m:\u001b[0m\u001b[1;33m\u001b[0m\u001b[0m\n",
      "\u001b[0;32m<ipython-input-5-81e95d61e64d>\u001b[0m in \u001b[0;36mcheck\u001b[0;34m(hHalved, xReduced)\u001b[0m\n\u001b[1;32m      1\u001b[0m \u001b[1;32mdef\u001b[0m \u001b[0mcheck\u001b[0m\u001b[1;33m(\u001b[0m\u001b[0mhHalved\u001b[0m\u001b[1;33m,\u001b[0m\u001b[0mxReduced\u001b[0m\u001b[1;33m)\u001b[0m\u001b[1;33m:\u001b[0m\u001b[1;33m\u001b[0m\u001b[0m\n\u001b[1;32m      2\u001b[0m \u001b[1;33m\u001b[0m\u001b[0m\n\u001b[0;32m----> 3\u001b[0;31m     \u001b[0mangle\u001b[0m\u001b[1;33m=\u001b[0m\u001b[0mATAN\u001b[0m\u001b[1;33m(\u001b[0m\u001b[0mhHalved\u001b[0m\u001b[1;33m/\u001b[0m\u001b[0mxReduced\u001b[0m\u001b[1;33m)\u001b[0m\u001b[1;33m\u001b[0m\u001b[0m\n\u001b[0m\u001b[1;32m      4\u001b[0m     \u001b[0mangle\u001b[0m \u001b[1;33m=\u001b[0m \u001b[1;33m(\u001b[0m\u001b[0mangle\u001b[0m\u001b[1;33m/\u001b[0m\u001b[1;36m3.14\u001b[0m\u001b[1;33m)\u001b[0m\u001b[1;33m*\u001b[0m\u001b[1;36m180\u001b[0m\u001b[1;33m\u001b[0m\u001b[0m\n\u001b[1;32m      5\u001b[0m \u001b[1;33m\u001b[0m\u001b[0m\n",
      "\u001b[0;31mNameError\u001b[0m: global name 'ATAN' is not defined"
     ]
    }
   ],
   "source": [
    "ggpl_building_stairs_with_landings(4,4,5.5)"
   ]
  },
  {
   "cell_type": "markdown",
   "metadata": {},
   "source": [
    "# OUTPUT:\n",
    "\n",
    "[![scala2.png](https://s20.postimg.org/ax7r95djh/scala2.png)](https://postimg.org/image/l7a68e3ex/)\n"
   ]
  }
 ],
 "metadata": {
  "kernelspec": {
   "display_name": "Python 2",
   "language": "python",
   "name": "python2"
  },
  "language_info": {
   "codemirror_mode": {
    "name": "ipython",
    "version": 2
   },
   "file_extension": ".py",
   "mimetype": "text/x-python",
   "name": "python",
   "nbconvert_exporter": "python",
   "pygments_lexer": "ipython2",
   "version": "2.7.12"
  }
 },
 "nbformat": 4,
 "nbformat_minor": 1
}
