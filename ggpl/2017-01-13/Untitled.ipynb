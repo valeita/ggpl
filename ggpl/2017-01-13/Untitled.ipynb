{
 "cells": [
  {
   "cell_type": "markdown",
   "metadata": {},
   "source": [
    "# WORKSHOP_10\n",
    "\n",
    "## This is a Python project for RomaTre University in Geometric & Graphics Programming Lab. by Alberto Paoluzzi.\n",
    "\n",
    "\n",
    "# DESIGN OF PARAMETRIC MULTISTOREY HOUSE\n",
    "\n",
    "## Description:\n",
    "\n",
    "The following project has the aim to build a complete house, using the previous workshops. Each of them in fact carries a piece of the house, the stairs, the floor, the roof, the pillars and the beams of the house itself. The house will be built with a roof top terrace, external stairs from where you can access to your home. The project is parametric, and is not just to build a house, but also a building with multiple floors and flats per floor."
   ]
  },
  {
   "cell_type": "markdown",
   "metadata": {},
   "source": [
    "### Texure used:\n",
    "in this workshop, there are the textures of the olds workshop 03,08 and 09."
   ]
  },
  {
   "cell_type": "markdown",
   "metadata": {},
   "source": [
    "## The main function:\n",
    "\n",
    "The main function is in charge of putting together the pieces that will make up a home / building. It also will manage the size taken as inputs, as there would be problems for the scale if the size of the plans were strange. It will also manage the various plans on the basis that they are the first, or the last floor."
   ]
  },
  {
   "cell_type": "code",
   "execution_count": 1,
   "metadata": {
    "collapsed": false
   },
   "outputs": [
    {
     "name": "stdout",
     "output_type": "stream",
     "text": [
      "Evaluating fenvs.py..\n",
      "...fenvs.py imported in 0.0298987390067 seconds\n"
     ]
    }
   ],
   "source": [
    "from pyplasm import *\n",
    "from workshop_03 import *\n",
    "from workshop_08 import *\n",
    "from workshop_09 import *\n",
    "\n",
    "\n",
    "def design_of_parametric_multistorey_house(files_folder, num_planes, num_appartment,house_x, house_y, house_z):\n",
    "    \"\"\"\n",
    "    this function takes a list of files to build the planimetry,\n",
    "    the number of planes of the building, the number of appartment\n",
    "    for every plane, and the dimension of the house x,y and z.\n",
    "    It return the hpc of the completed building\n",
    "    \"\"\"\n",
    "    building = []\n",
    "    h_roof = house_z/5.\n",
    "    house_z = house_z-h_roof\n",
    "\n",
    "    \n",
    "    appartment_x = house_x\n",
    "    appartment_z = house_z/num_planes\n",
    "    appartment_y = house_y/num_appartment\n",
    "    dim_beams = (appartment_x + appartment_y)/50.\n",
    "    appartment_x = appartment_x - (2*(dim_beams))\n",
    "    appartment_z = appartment_z - (dim_beams)\n",
    "    appartment_y = appartment_y - (dim_beams)\n",
    "    appartment = ggpl_planimetry3D([files_folder[0],files_folder[1],files_folder[2],files_folder[3],files_folder[4],files_folder[5],files_folder[6],files_folder[7],files_folder[8],files_folder[9],files_folder[10],files_folder[11],files_folder[12]],appartment_x,appartment_y,appartment_z,dim_beams)\n",
    "    i=0\n",
    "    trasly = 0\n",
    "\n",
    "    if(appartment_y < appartment_z*2):\n",
    "        exit(\"put in the correct data input. The house must be more large.\")\n",
    "    while(i<num_appartment):\n",
    "                \n",
    "        appartments_stack = generate_planes(num_planes,num_appartment,appartment_z,dim_beams,appartment)\n",
    "                \n",
    "        if(num_planes>1):\n",
    "            ramp = generate_ramps(appartment_x,appartment_y,appartment_z,num_planes,dim_beams)\n",
    "            appartments_stack = STRUCT([ramp,appartments_stack])\n",
    "        building.append(T(2)(trasly)(STRUCT([appartments_stack])))\n",
    "        i=i+1\n",
    "\n",
    "        trasly = trasly+appartment_y + dim_beams\n",
    "                \n",
    "    roof = generate_roof(house_x,house_y,house_z,h_roof)\n",
    "    project = T(1)(appartment_y/8.)(STRUCT([roof,STRUCT(building)]))\n",
    "    VIEW(project)\n",
    "    return project"
   ]
  },
  {
   "cell_type": "markdown",
   "metadata": {},
   "source": [
    "The generate_plane() function, has the purpose to take as input an apartment, and then based on the number of floors present in input to the main function, to realize a stack of flats one above the other body, each shifted by an appropriate amount."
   ]
  },
  {
   "cell_type": "code",
   "execution_count": 2,
   "metadata": {
    "collapsed": true
   },
   "outputs": [],
   "source": [
    "def generate_planes(num_planes, num_appartment,z_appartment,dim_beams,appartment):\n",
    "\n",
    "    \"\"\"\n",
    "    this function takes the number of planes of the building, the number of appartment\n",
    "    for every plane, and the dimension of the single appartment about z, the beam's dimension,\n",
    "    and the appartment hpc.\n",
    "    It return the hpc of the appartment's stack.\n",
    "    \"\"\"\n",
    "    i=0\n",
    "    house = []\n",
    "    trasl_1 = 0\n",
    "    trasl_2 = 0\n",
    "    while(i<num_planes):\n",
    "\n",
    "        house.append(T(3)(trasl_1+trasl_2)(appartment))\n",
    "        trasl_1 = trasl_1+z_appartment\n",
    "        trasl_2 = trasl_2+dim_beams\n",
    "        i=i+1\n",
    "    return STRUCT(house)"
   ]
  },
  {
   "cell_type": "markdown",
   "metadata": {},
   "source": [
    "The generate_roof function, simply takes as input the total size of the house, and the height of the roof, and has the aim to realize the roof using the workshop_09 code."
   ]
  },
  {
   "cell_type": "code",
   "execution_count": 3,
   "metadata": {
    "collapsed": true
   },
   "outputs": [],
   "source": [
    "def generate_roof(house_x,house_y,house_z,h_roof):\n",
    "\n",
    "    \"\"\"\n",
    "    this function takes the house's dimension about x,y,z and the quote of the roof.\n",
    "    It return the hpc of the completed roof.\n",
    "    \"\"\"\n",
    "    \n",
    "    roof = ggpl_geometric_building_roof([[[0,0,0],[0,house_y,0]],[[0,house_y,0],[house_x,house_y,0]],[[house_x,house_y,0],[house_x,0,0]],[[house_x,0,0],[0,0,0]]],h_roof)  \n",
    "    return T(3)(house_z)(roof)"
   ]
  },
  {
   "cell_type": "markdown",
   "metadata": {},
   "source": [
    "The function generate_ramp (), simply takes as input the total size of the apartment and the size of the pillars, and has the object to provide a flight of stairs (only in case there is at least one plane) using the workshop_03 code, with a adding pillars de beams to support the entire structure."
   ]
  },
  {
   "cell_type": "code",
   "execution_count": 4,
   "metadata": {
    "collapsed": true
   },
   "outputs": [],
   "source": [
    "def generate_ramps(appartment_x,appartment_y,appartment_z,num_planes,dim_beams):\n",
    "\n",
    "    \"\"\"\n",
    "    this function takes the dimension of the single appartment about x,y,z,\n",
    "    the number of planes and the beam's dimension.\n",
    "    It return the hpc of the completed ramp.\n",
    "    \"\"\"\n",
    "    \n",
    "    ramp_x = appartment_x/2.5\n",
    "    ramp_y = appartment_y/10.\n",
    "    ramp_z = appartment_z+dim_beams\n",
    "    i=0\n",
    "    trasl = 0\n",
    "    ramps = []\n",
    "    bool = 0\n",
    "    while(i<num_planes-1):\n",
    "\n",
    "        if(i==num_planes-2):\n",
    "            bool = 1\n",
    "            \n",
    "        ramp = ggpl_building_stairs_with_landings(ramp_x,ramp_y,ramp_z,bool)\n",
    "        ramps.append(T([2,3])([(appartment_y/2.)-(appartment_y/40.),trasl])(R([1,2])(PI/2)(ramp)))\n",
    "        i=i+1\n",
    "        trasl = trasl+appartment_z+dim_beams\n",
    "  \n",
    "        \n",
    "    return T(1)(-0.09)(STRUCT(ramps))"
   ]
  },
  {
   "cell_type": "code",
   "execution_count": 5,
   "metadata": {
    "collapsed": false
   },
   "outputs": [
    {
     "data": {
      "text/plain": [
       "<pyplasm.xgepy.Hpc; proxy of <Swig Object of type 'std::shared_ptr< Hpc > *' at 0x0000000005320AB0> >"
      ]
     },
     "execution_count": 5,
     "metadata": {},
     "output_type": "execute_result"
    }
   ],
   "source": [
    "design_of_parametric_multistorey_house([\"file_txt/external_walls.txt\",\"file_txt/external_walls2.txt\",\"file_txt/internal_walls.txt\",\"file_txt/glass_doors.txt\",\"file_txt/floor1.txt\",\"file_txt/floor2.txt\",\"file_txt/floor3.txt\",\"file_txt/glass_windows.txt\",\"file_txt/windows.txt\",\"file_txt/up_doors1.txt\",\"file_txt/up_doors2.txt\",\"file_txt/up_doors3.txt\",\"file_txt/terrace.txt\"], 8, 5,12,50,30)"
   ]
  },
  {
   "cell_type": "markdown",
   "metadata": {},
   "source": [
    "# OUTPUTS IMAGES:"
   ]
  },
  {
   "cell_type": "markdown",
   "metadata": {
    "collapsed": true
   },
   "source": [
    "[![Immagine1.png](https://s20.postimg.org/cxb3nl0b1/Immagine1.png)](https://postimg.org/image/wrx59pfih/)"
   ]
  },
  {
   "cell_type": "markdown",
   "metadata": {
    "collapsed": true
   },
   "source": [
    "[![immagine2.png](https://s20.postimg.org/h7prj65e5/immagine2.png)](https://postimg.org/image/yxrg47iyx/)"
   ]
  },
  {
   "cell_type": "markdown",
   "metadata": {
    "collapsed": true
   },
   "source": [
    "[![Immagine3.png](https://s20.postimg.org/nzg6m0udp/Immagine3.png)](https://postimg.org/image/zbss3t32h/)"
   ]
  },
  {
   "cell_type": "markdown",
   "metadata": {
    "collapsed": true
   },
   "source": [
    "[![Immagine4.png](https://s20.postimg.org/pfrp45xal/Immagine4.png)](https://postimg.org/image/gkqutn8i1/)"
   ]
  },
  {
   "cell_type": "markdown",
   "metadata": {
    "collapsed": true
   },
   "source": [
    "[![Immagine7.png](https://s20.postimg.org/7qzycjljh/Immagine7.png)](https://postimg.org/image/x9sapk53d/)"
   ]
  },
  {
   "cell_type": "markdown",
   "metadata": {},
   "source": [
    "[![Immagine10.png](https://s20.postimg.org/gnaqghc5p/Immagine10.png)](https://postimg.org/image/eiqdfeaix/)"
   ]
  }
 ],
 "metadata": {
  "kernelspec": {
   "display_name": "Python 2",
   "language": "python",
   "name": "python2"
  },
  "language_info": {
   "codemirror_mode": {
    "name": "ipython",
    "version": 2
   },
   "file_extension": ".py",
   "mimetype": "text/x-python",
   "name": "python",
   "nbconvert_exporter": "python",
   "pygments_lexer": "ipython2",
   "version": "2.7.12"
  }
 },
 "nbformat": 4,
 "nbformat_minor": 1
}
