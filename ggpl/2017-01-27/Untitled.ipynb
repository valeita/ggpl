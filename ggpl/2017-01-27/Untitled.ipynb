{
 "cells": [
  {
   "cell_type": "markdown",
   "metadata": {},
   "source": [
    "# WORKSHOP_11\n",
    "\n",
    "## This is a Python project for RomaTre University in Geometric & Graphics Programming Lab. by Alberto Paoluzzi.\n",
    "\n",
    "\n",
    "# MODEL OF SUBURBAN NEIGHBORHOOD\n",
    "\n",
    "## Description:\n",
    "\n",
    "The main purpose of this project is the construction of a suburban neighborhood model. It will therefore be given a site model that will consist of various types of houses, each with its own number of floors and apartments, along with various roads that connect between their apartments, of various sizes trees, all located on a lawn building.\n",
    "Everything will be delivered on a wooden board, and exposed to the view of all."
   ]
  },
  {
   "cell_type": "markdown",
   "metadata": {},
   "source": [
    "# The Planimetry:\n",
    "[![topomap5.jpg](https://s20.postimg.org/g57rv9mml/topomap5.jpg)](https://postimg.org/image/edet0d39l/)"
   ]
  },
  {
   "cell_type": "markdown",
   "metadata": {},
   "source": [
    "## Texture used:\n",
    "In this workshop, we have used the texture of the olds workshop: 03,08,09.\n",
    "but, we have used others new texture:"
   ]
  },
  {
   "cell_type": "markdown",
   "metadata": {},
   "source": [
    "### Texture of the little slab:\n",
    "[![legno.jpg](https://s20.postimg.org/8k4qzsrm5/legno.jpg)](https://postimg.org/image/6fkdyppzd/)"
   ]
  },
  {
   "cell_type": "markdown",
   "metadata": {},
   "source": [
    "### Texture of the meadow:\n",
    "[![prato.jpg](https://s20.postimg.org/b2qg0hdcd/prato.jpg)](https://postimg.org/image/b2qg0hdc9/)"
   ]
  },
  {
   "cell_type": "markdown",
   "metadata": {},
   "source": [
    "### Texture of the tree's trunk:\n",
    "[![trunk.jpg](https://s20.postimg.org/xtzimvydp/trunk.jpg)](https://postimg.org/image/om7a66rbd/)"
   ]
  },
  {
   "cell_type": "markdown",
   "metadata": {},
   "source": [
    "### Texture of the tree's body:\n",
    "[![tree.jpg](https://s20.postimg.org/6i49ljtn1/tree.jpg)](https://postimg.org/image/a1q7bcwcp/)"
   ]
  },
  {
   "cell_type": "markdown",
   "metadata": {},
   "source": [
    "## The main funcion:\n",
    "\n",
    "The main function does not take into nothing input. It will then return a static result. It will address the different functions that build roads, trees and houses, and put together."
   ]
  },
  {
   "cell_type": "code",
   "execution_count": 5,
   "metadata": {
    "collapsed": false
   },
   "outputs": [],
   "source": [
    "from pyplasm import *\n",
    "from workshop_10 import *\n",
    "\n",
    "def model_of_suburban_neighborhood():\n",
    "\n",
    "    \"\"\"\n",
    "    The main function, does not take any input\n",
    "    parameter to be processed, and thus produces\n",
    "    a totally static result.\n",
    "    \"\"\"\n",
    "    \n",
    "    house_4 = design_of_parametric_multistorey_house([\"file_txt/external_walls.txt\",\"file_txt/external_walls2.txt\",\"file_txt/internal_walls.txt\",\"file_txt/glass_doors.txt\",\"file_txt/floor1.txt\",\"file_txt/floor2.txt\",\"file_txt/floor3.txt\",\"file_txt/glass_windows.txt\",\"file_txt/windows.txt\",\"file_txt/up_doors1.txt\",\"file_txt/up_doors2.txt\",\"file_txt/up_doors3.txt\",\"file_txt/terrace.txt\"], 2, 7, 6.15,28,4)\n",
    "    house_3 = design_of_parametric_multistorey_house([\"file_txt/external_walls.txt\",\"file_txt/external_walls2.txt\",\"file_txt/internal_walls.txt\",\"file_txt/glass_doors.txt\",\"file_txt/floor1.txt\",\"file_txt/floor2.txt\",\"file_txt/floor3.txt\",\"file_txt/glass_windows.txt\",\"file_txt/windows.txt\",\"file_txt/up_doors1.txt\",\"file_txt/up_doors2.txt\",\"file_txt/up_doors3.txt\",\"file_txt/terrace.txt\"], 2, 6, 6.15,24,4)\n",
    "    house_2 = design_of_parametric_multistorey_house([\"file_txt/external_walls.txt\",\"file_txt/external_walls2.txt\",\"file_txt/internal_walls.txt\",\"file_txt/glass_doors.txt\",\"file_txt/floor1.txt\",\"file_txt/floor2.txt\",\"file_txt/floor3.txt\",\"file_txt/glass_windows.txt\",\"file_txt/windows.txt\",\"file_txt/up_doors1.txt\",\"file_txt/up_doors2.txt\",\"file_txt/up_doors3.txt\",\"file_txt/terrace.txt\"], 2, 5, 6.15,20,4)\n",
    "    house_1 = design_of_parametric_multistorey_house([\"file_txt/external_walls.txt\",\"file_txt/external_walls2.txt\",\"file_txt/internal_walls.txt\",\"file_txt/glass_doors.txt\",\"file_txt/floor1.txt\",\"file_txt/floor2.txt\",\"file_txt/floor3.txt\",\"file_txt/glass_windows.txt\",\"file_txt/windows.txt\",\"file_txt/up_doors1.txt\",\"file_txt/up_doors2.txt\",\"file_txt/up_doors3.txt\",\"file_txt/terrace.txt\"], 2, 4, 6.15,16,4)\n",
    "    \n",
    "\n",
    "    #STREET:\n",
    "    district = []\n",
    "    little_s = []\n",
    "    district.append(TEXTURE(\"images/asfalto.jpg\")(PROD([BEZIERSTRIPE([[[-10,10],[10,10]],1.8,100]),Q(0.1)])))\n",
    "    district.append(TEXTURE(\"images/asfalto.jpg\")(PROD([BEZIERSTRIPE([[[10,0],[10,10]],1.8,100]),Q(0.1)])))   \n",
    "    district.append(TEXTURE(\"images/asfalto.jpg\")(PROD([BEZIERSTRIPE([[[10,10],[45,10],[75,50]],1.8,100]),Q(0.1)])))\n",
    "    district.append(TEXTURE(\"images/asfalto.jpg\")(PROD([BEZIERSTRIPE([[[46,24],[43,22],[40,85]],1.8,100]),Q(0.1)]))) #RETTA DI DESTRA VERSO L'ALTO  \n",
    "    district.append(TEXTURE(\"images/asfalto.jpg\")(PROD([BEZIERSTRIPE([[[41,50],[105,50]],1.8,100]),Q(0.1)]))) #RETTA   \n",
    "    district.append(TEXTURE(\"images/asfalto.jpg\")(PROD([BEZIERSTRIPE([[[10,10],[10,25],[20,45],[3,85]],1.8,100]),Q(0.1)]))) #RETTA DI SINISTRA DAL BASSO VERSO L'ALTO\n",
    "    \n",
    "\n",
    "\n",
    "\n",
    "    #LITTLE STREET:\n",
    "\n",
    "    district.append(TEXTURE(\"images/asfalto.jpg\")(PROD([BEZIERSTRIPE([[[10,16.5],[12.5,16.5]],1.3,100]),Q(0.1)])))\n",
    "    district.append(TEXTURE(\"images/asfalto.jpg\")(PROD([BEZIERSTRIPE([[[10.5,20.5],[13,20.5]],1.3,100]),Q(0.1)])))\n",
    "    district.append(TEXTURE(\"images/asfalto.jpg\")(PROD([BEZIERSTRIPE([[[11,24.5],[13.5,24.5]],1.3,100]),Q(0.1)])))\n",
    "    district.append(TEXTURE(\"images/asfalto.jpg\")(PROD([BEZIERSTRIPE([[[11.5,28.5],[14,28.5]],1.3,100]),Q(0.1)])))\n",
    "    district.append(TEXTURE(\"images/asfalto.jpg\")(PROD([BEZIERSTRIPE([[[12,32.5],[14.5,32.5]],1.3,100]),Q(0.1)])))\n",
    "    district.append(TEXTURE(\"images/asfalto.jpg\")(PROD([BEZIERSTRIPE([[[12.5,36.5],[15,36.5]],1.3,100]),Q(0.1)])))\n",
    "\n",
    "\n",
    "\n",
    "    district.append(TEXTURE(\"images/asfalto.jpg\")(PROD([BEZIERSTRIPE([[[12.2,42.7],[15.2,42.7]],1.3,100]),Q(0.1)])))\n",
    "    district.append(TEXTURE(\"images/asfalto.jpg\")(PROD([BEZIERSTRIPE([[[12,46.7],[15,46.7]],1.3,100]),Q(0.1)])))\n",
    "    district.append(TEXTURE(\"images/asfalto.jpg\")(PROD([BEZIERSTRIPE([[[11.6,50.7],[14.6,50.7]],1.3,100]),Q(0.1)])))\n",
    "    district.append(TEXTURE(\"images/asfalto.jpg\")(PROD([BEZIERSTRIPE([[[11,54.7],[14.2,54.7]],1.3,100]),Q(0.1)])))\n",
    "    district.append(TEXTURE(\"images/asfalto.jpg\")(PROD([BEZIERSTRIPE([[[10.5,58.7],[13.5,58.7]],1.3,100]),Q(0.1)])))\n",
    "\n",
    "\n",
    "\n",
    "    district.append(TEXTURE(\"images/asfalto.jpg\")(PROD([BEZIERSTRIPE([[[9.2,63.6],[12.2,64.3]],1.3,100]),Q(0.1)])))\n",
    "    district.append(TEXTURE(\"images/asfalto.jpg\")(PROD([BEZIERSTRIPE([[[7.5,67.3],[10.5,68]],1.3,100]),Q(0.1)])))\n",
    "    district.append(TEXTURE(\"images/asfalto.jpg\")(PROD([BEZIERSTRIPE([[[6.5,71.3],[9.5,72]],1.3,100]),Q(0.1)])))\n",
    "    district.append(TEXTURE(\"images/asfalto.jpg\")(PROD([BEZIERSTRIPE([[[5.3,75.3],[8.3,76]],1.3,100]),Q(0.1)])))\n",
    "\n",
    "\n",
    "\n",
    "    district.append(TEXTURE(\"images/asfalto.jpg\")(PROD([BEZIERSTRIPE([[[9.2,33.4],[11.8,33.2]],1.3,100]),Q(0.1)])))    \n",
    "    district.append(TEXTURE(\"images/asfalto.jpg\")(PROD([BEZIERSTRIPE([[[8.9,37.4],[11.8,37.2]],1.3,100]),Q(0.1)])))\n",
    "    district.append(TEXTURE(\"images/asfalto.jpg\")(PROD([BEZIERSTRIPE([[[8.4,41.4],[11.8,41.2]],1.3,100]),Q(0.1)])))\n",
    "    district.append(TEXTURE(\"images/asfalto.jpg\")(PROD([BEZIERSTRIPE([[[7.9,45.4],[11.8,45.2]],1.3,100]),Q(0.1)])))\n",
    "    district.append(TEXTURE(\"images/asfalto.jpg\")(PROD([BEZIERSTRIPE([[[7.5,49.4],[11.8,49.2]],1.3,100]),Q(0.1)])))\n",
    "\n",
    "\n",
    "    district.append(TEXTURE(\"images/asfalto.jpg\")(PROD([BEZIERSTRIPE([[[7,57.6],[10.5,58.4]],1.3,100]),Q(0.1)])))\n",
    "    district.append(TEXTURE(\"images/asfalto.jpg\")(PROD([BEZIERSTRIPE([[[5.5,61.6],[9,62.4]],1.3,100]),Q(0.1)])))\n",
    "    district.append(TEXTURE(\"images/asfalto.jpg\")(PROD([BEZIERSTRIPE([[[4.5,65],[7.8,66.4]],1.3,100]),Q(0.1)])))\n",
    "    district.append(TEXTURE(\"images/asfalto.jpg\")(PROD([BEZIERSTRIPE([[[3.2,69],[6.5,70.4]],1.3,100]),Q(0.1)])))\n",
    "    district.append(TEXTURE(\"images/asfalto.jpg\")(PROD([BEZIERSTRIPE([[[1.7,73],[6.5,74.4]],1.3,100]),Q(0.1)])))\n",
    "    district.append(TEXTURE(\"images/asfalto.jpg\")(PROD([BEZIERSTRIPE([[[0.8,77],[5.6,78.4]],1.3,100]),Q(0.1)])))\n",
    "    \n",
    "\n",
    "    little_s.append(TEXTURE(\"images/asfalto.jpg\")(PROD([BEZIERSTRIPE([[[37.7,47.2],[41,47.2]],1.3,100]),Q(0.1)])))\n",
    "    little_s.append(TEXTURE(\"images/asfalto.jpg\")(PROD([BEZIERSTRIPE([[[37.8,51.2],[41,51.2]],1.3,100]),Q(0.1)])))\n",
    "    little_s.append(TEXTURE(\"images/asfalto.jpg\")(PROD([BEZIERSTRIPE([[[37.6,55.2],[41,55.2]],1.3,100]),Q(0.1)])))\n",
    "    little_s.append(TEXTURE(\"images/asfalto.jpg\")(PROD([BEZIERSTRIPE([[[37.4,59.2],[41,59.2]],1.3,100]),Q(0.1)])))\n",
    "\n",
    "    district.append(TEXTURE(\"images/asfalto.jpg\")(PROD([BEZIERSTRIPE([[[67.8,43.3],[70,41.2]],1.3,100]),Q(0.1)])))\n",
    "    district.append(TEXTURE(\"images/asfalto.jpg\")(PROD([BEZIERSTRIPE([[[70.8,46.3],[73,44.2]],1.3,100]),Q(0.1)])))\n",
    "\n",
    "\n",
    "\n",
    "\n",
    "    \n",
    "    district.append(TEXTURE(\"images/asfalto.jpg\")(PROD([BEZIERSTRIPE([[[33,15],[35.5,11.2]],1.3,100]),Q(0.1)]))) \n",
    "    district.append(TEXTURE(\"images/asfalto.jpg\")(PROD([BEZIERSTRIPE([[[37,17],[39.2,13.7]],1.3,100]),Q(0.1)])))\n",
    "    district.append(TEXTURE(\"images/asfalto.jpg\")(PROD([BEZIERSTRIPE([[[40.5,19],[42.5,16.2]],1.3,100]),Q(0.1)])))\n",
    "    district.append(TEXTURE(\"images/asfalto.jpg\")(PROD([BEZIERSTRIPE([[[44,21],[46,18.2]],1.3,100]),Q(0.1)])))  \n",
    "    district.append(TEXTURE(\"images/asfalto.jpg\")(PROD([BEZIERSTRIPE([[[47,24],[49.5,21]],1.3,100]),Q(0.1)])))\n",
    "    district.append(TEXTURE(\"images/asfalto.jpg\")(PROD([BEZIERSTRIPE([[[50.5,27],[52.5,23.5]],1.3,100]),Q(0.1)])))\n",
    "    district.append(TEXTURE(\"images/asfalto.jpg\")(PROD([BEZIERSTRIPE([[[53.6,29],[55.5,26]],1.3,100]),Q(0.1)])))\n",
    "    district.append(TEXTURE(\"images/asfalto.jpg\")(PROD([BEZIERSTRIPE([[[41.5,19.5],[42.5,26],[38.5,26]],1.3,100]),Q(0.1)])))   \n",
    "    district.append(TEXTURE(\"images/asfalto.jpg\")(PROD([BEZIERSTRIPE([[[38.5,28.7],[43,28.7]],1.3,100]),Q(0.1)])))\n",
    "    district.append(TEXTURE(\"images/asfalto.jpg\")(PROD([BEZIERSTRIPE([[[38.5,32.7],[42,32.7]],1.3,100]),Q(0.1)])))   \n",
    "    district.append(TEXTURE(\"images/asfalto.jpg\")(PROD([BEZIERSTRIPE([[[38,36.7],[42,36.7]],1.3,100]),Q(0.1)])))\n",
    "    district.append(TEXTURE(\"images/asfalto.jpg\")(PROD([BEZIERSTRIPE([[[38,40.7],[42,40.7]],1.3,100]),Q(0.1)])))\n",
    "    \n",
    "    \n",
    "    little_s = STRUCT(little_s)\n",
    "    district.append(little_s)\n",
    "\n",
    "    district.append(T([1,2])([-1.9,21.3])(R([1,2])(-PI/2+(PI/4)+(PI/50))(little_s)))\n",
    "    district.append(T([1,2])([144.8,10.9])(R([1,2])(PI/2)(little_s)))\n",
    "    district.append(T([1,2])([148.8,10.9])(R([1,2])(PI/2)(little_s)))\n",
    "\n",
    "    district.append(T([1,2])([144.8,12.5])(R([1,2])(PI/2)(little_s)))\n",
    "    district.append(T([1,2])([148.8,12.5])(R([1,2])(PI/2)(little_s)))\n",
    "    district.append(T([1,2])([115,12.5])(R([1,2])(PI/2)(little_s)))\n",
    "    district.append(T([1,2])([119,12.5])(R([1,2])(PI/2)(little_s)))\n",
    "    district.append(T([1,2])([123,12.5])(R([1,2])(PI/2)(little_s)))\n",
    "    district.append(T([1,2])([1.7,8.5])(little_s))\n",
    "    district.append(T([1,2])([1.3,16.5])(little_s)) \n",
    "    district.append(T([1,2])([-1,18])(little_s))\n",
    "    district.append(T([1,2])([-1,22])(little_s))\n",
    "\n",
    "    \n",
    "\n",
    "    #HOUSE:\n",
    "    \n",
    "    district.append(T([1,2])([7,52])(R([1,2])(PI+PI/40)(house_2)))\n",
    "    district.append(T([1,2])([-1,79])(R([1,2])(PI+PI/10)(house_3)))\n",
    "    district.append(T([1,2])([13,15])(R([1,2])(-PI/30)(house_3)))\n",
    "    district.append(T([1,2])([16,41])(R([1,2])(PI/40)(house_2)))\n",
    "    district.append(T([1,2])([13,63])(R([1,2])(PI/10)(house_1)))\n",
    "    district.append(T([1,2])([37,43])(R([1,2])(PI+PI/50)(house_2)))\n",
    "    district.append(T([1,2])([36,62])(R([1,2])(PI+PI/50)(house_1)))\n",
    "    district.append(T([1,2])([35,84])(R([1,2])(PI+PI/50)(house_2)))\n",
    "    district.append(T([1,2])([44,54])(R([1,2])(PI/50)(house_3)))\n",
    "    district.append(T([1,2])([78,54])(R([1,2])(PI/2)(house_3)))\n",
    "    district.append(T([1,2])([103,54])(R([1,2])(PI/2)(house_2)))\n",
    "    district.append(T([1,2])([83,48])(R([1,2])(-PI/2)(house_2)))   \n",
    "    district.append(T([1,2])([59,28])(R([1,2])(-PI/2+(PI/4)+(PI/50))(house_3)))\n",
    "    district.append(T([1,2])([35,10])(R([1,2])(-PI/2+(PI/4)-(PI/20))(house_4)))\n",
    "\n",
    "\n",
    "\n",
    "    #TREE\n",
    "\n",
    "    district.append(T([1,2])([7,3])(random_tree()))\n",
    "    district.append(T([1,2])([7,12])(random_tree()))\n",
    "    district.append(T([1,2])([10,8])(random_tree()))\n",
    "    district.append(T([1,2])([1,6])(random_tree()))\n",
    "    district.append(T([1,2])([10,2])(random_tree()))\n",
    "    \n",
    "    district.append(T([1,2])([2,2])(random_tree()))\n",
    "    district.append(T([1,2])([3,3])(random_tree()))\n",
    "    district.append(T([1,2])([-1,1])(random_tree()))\n",
    "    district.append(T([1,2])([-2,4])(random_tree()))\n",
    "    district.append(T([1,2])([-3,3])(random_tree()))\n",
    "    district.append(T([1,2])([-2,12])(random_tree()))\n",
    "\n",
    "    district.append(T([1,2])([-4,7])(random_tree()))\n",
    "    district.append(T([1,2])([-5,1])(random_tree()))\n",
    "    district.append(T([1,2])([-2,14])(random_tree()))\n",
    "    district.append(T([1,2])([13,2])(random_tree()))\n",
    "    district.append(T([1,2])([13,4])(random_tree()))\n",
    "    district.append(T([1,2])([13,6])(random_tree()))\n",
    "    district.append(T([1,2])([13,8])(random_tree()))\n",
    "\n",
    "    district.append(T([1,2])([-2,14])(random_tree()))\n",
    "    district.append(T([1,2])([-2,16])(random_tree()))\n",
    "    district.append(T([1,2])([-2,14])(random_tree()))\n",
    "    district.append(T([1,2])([-2,19])(random_tree()))\n",
    "    district.append(T([1,2])([-4,13])(random_tree()))\n",
    "    district.append(T([1,2])([-4,17])(random_tree()))\n",
    "    district.append(T([1,2])([-4,21])(random_tree()))\n",
    "    district.append(T([1,2])([-4,25])(random_tree()))\n",
    "    district.append(T([1,2])([0,4])(random_tree()))\n",
    "    district.append(T([1,2])([0,8])(random_tree()))\n",
    "    district.append(T([1,2])([0,15])(random_tree()))\n",
    "    district.append(T([1,2])([0,17])(random_tree()))\n",
    "\n",
    "    district.append(T([1,2])([-6,1])(random_tree()))\n",
    "    district.append(T([1,2])([-6,3])(random_tree()))\n",
    "    district.append(T([1,2])([-7,5])(random_tree()))\n",
    "    district.append(T([1,2])([-7,8])(random_tree()))\n",
    "    district.append(T([1,2])([-9,2])(random_tree()))\n",
    "    district.append(T([1,2])([-9,13])(random_tree()))\n",
    "    district.append(T([1,2])([-9,15])(random_tree()))\n",
    "    district.append(T([1,2])([-6,19])(random_tree()))\n",
    "    \n",
    "\n",
    "    #NEW TREE\n",
    "    \n",
    "\n",
    "    \n",
    "    \n",
    "    \n",
    "    \n",
    "\n",
    "    \n",
    "\n",
    "\n",
    "\n",
    "\n",
    "\n",
    "\n",
    "\n",
    "\n",
    "\n",
    "\n",
    "\n",
    "\n",
    "\n",
    "\n",
    "\n",
    "\n",
    "\n",
    "\n",
    "\n",
    "\n",
    "\n",
    "\n",
    "\n",
    "\n",
    "\n",
    "    \n",
    "    plane = TEXTURE(\"images/legno.jpg\")(CUBOID([160,140,2]))\n",
    "    district = T([1,2,3])([30,20,2.2])(STRUCT(district))\n",
    "    meadow = T([1,2,3])([20,20,2])(TEXTURE(\"images/prato.jpg\")(CUBOID([120,100,0.2])))\n",
    "    \n",
    "    model = STRUCT([district,plane,meadow])\n",
    "    \n",
    "    VIEW(model)\n",
    "    return model\n",
    "\n",
    "\n",
    "\n",
    "\n"
   ]
  },
  {
   "cell_type": "markdown",
   "metadata": {},
   "source": [
    "The following function has the task of generating a tree. It will be created with a trunk of different sizes. The creation of the tree, involves the construction of a trunk consisting of a simple cylinder, while the tree trunk will be constituted by a MKPOL that realizes the bust in 2D, is made to rotate exactly 36 times of PI / 13, and finally the You will be given a thick offset. return the fully-hpc of both parties."
   ]
  },
  {
   "cell_type": "code",
   "execution_count": 6,
   "metadata": {
    "collapsed": true
   },
   "outputs": [],
   "source": [
    "def generate_tree(r_trunk,h_trunk):\n",
    "    \n",
    "    \"\"\"\n",
    "    This function takes as input respectively the\n",
    "    radius of the trunk, the base, and its height.\n",
    "    The tree trunk is instead built statically.\n",
    "    The function returns the tree as hpc.\n",
    "    \"\"\"\n",
    "    \n",
    "    tree2D = MKPOL([[[0.5,0.3,0],[0.9,0.3,0],[0,0.3,0],[1.4,0.3,0],[0.5,0.8,0],[0.9,0.8,0],[0.1,0.8,0],[1.3,0.8,0],[0.5,1.2,0],[0.9,1.2,0],\n",
    "                     [0.2,1.2,0],[1.2,1.2,0],[0.5,1.5,0],[0.9,1.5,0],[0.3,1.5,0],[1.1,1.5,0],[0.5,1.7,0],[0.9,1.7,0],[0.4,1.7,0],[1.0,1.7,0],\n",
    "                     [0.6,1.9,0],[0.8,1.9,0],[0.5,1.9,0],[0.9,1.9,0],[0.7,2.1,0]],[[1,2,3,4,5,6],[5,6,7,8,9,10],\n",
    "                     [9,10,11,12,13,14],[13,14,15,16,17,18],[17,18,19,20,21,22],[21,22,23,24,25]],[[1]]])\n",
    "    \n",
    "    tree2D = T([1,2])([-0.7,h_trunk-0.3])(tree2D)\n",
    "    angle = 1\n",
    "    tree3D = []\n",
    "    trunk3D = []\n",
    "    while(angle<37):\n",
    "        tree3D.append(R([1,3])(PI/13))\n",
    "        tree3D.append(tree2D)\n",
    "        angle = angle+1\n",
    "\n",
    "    tree3D = TEXTURE(\"images/tree.jpg\")(OFFSET([0.05,0.05,0.05])(STRUCT(tree3D)))\n",
    "    tree3D = R([2,3])(PI/2)(tree3D)\n",
    "    trunk3D = TEXTURE(\"images/trunk.jpg\")(CYLINDER([r_trunk,h_trunk])(50))\n",
    "\n",
    "    tree = T([1,2])([0.7,0.7])(STRUCT([tree3D, trunk3D]))\n",
    "    return tree"
   ]
  },
  {
   "cell_type": "markdown",
   "metadata": {},
   "source": [
    "This function is responsible for generating random numbers. reducing to a fair probability for each of the possibilities, based on the random number produced, you will create a different type of tree, calling the function that in this document we have previously described."
   ]
  },
  {
   "cell_type": "code",
   "execution_count": 7,
   "metadata": {
    "collapsed": true
   },
   "outputs": [],
   "source": [
    "def random_tree():\n",
    "\n",
    "    \"\"\"\n",
    "    This function does not take any\n",
    "    input parameter. It returns a random tree as a hpc.\n",
    "    \"\"\"\n",
    "    \n",
    "    n = randint(0,11)\n",
    "    \n",
    "    if(n < 3):\n",
    "\n",
    "        tree = generate_tree(0.22,0.589)\n",
    "\n",
    "    if(2 < n < 6):\n",
    "\n",
    "        tree = generate_tree(0.22,0.9)\n",
    "\n",
    "    if(5 < n < 9):\n",
    "\n",
    "        tree = generate_tree(0.22,1.2)\n",
    "\n",
    "    if(n > 8):\n",
    "\n",
    "        tree = generate_tree(0.22,1.9)\n",
    "\n",
    "    return tree"
   ]
  },
  {
   "cell_type": "code",
   "execution_count": 8,
   "metadata": {
    "collapsed": false
   },
   "outputs": [
    {
     "data": {
      "text/plain": [
       "<pyplasm.xgepy.Hpc; proxy of <Swig Object of type 'std::shared_ptr< Hpc > *' at 0x000000000BAF3E10> >"
      ]
     },
     "execution_count": 8,
     "metadata": {},
     "output_type": "execute_result"
    }
   ],
   "source": [
    "model_of_suburban_neighborhood()"
   ]
  },
  {
   "cell_type": "code",
   "execution_count": null,
   "metadata": {
    "collapsed": true
   },
   "outputs": [],
   "source": []
  },
  {
   "cell_type": "code",
   "execution_count": null,
   "metadata": {
    "collapsed": true
   },
   "outputs": [],
   "source": []
  },
  {
   "cell_type": "code",
   "execution_count": null,
   "metadata": {
    "collapsed": true
   },
   "outputs": [],
   "source": []
  },
  {
   "cell_type": "markdown",
   "metadata": {},
   "source": [
    "# OUTPUTS OF THE TREES: (Exist 4 type, i will show only 2 type)"
   ]
  },
  {
   "cell_type": "markdown",
   "metadata": {},
   "source": [
    "[![TREE1.png](https://s20.postimg.org/lhwm9eaj1/TREE1.png)](https://postimg.org/image/939u92j0p/)"
   ]
  },
  {
   "cell_type": "markdown",
   "metadata": {},
   "source": [
    "[![TREE2.png](https://s20.postimg.org/fi8v5qpql/TREE2.png)](https://postimg.org/image/b9453kmh5/)"
   ]
  },
  {
   "cell_type": "markdown",
   "metadata": {},
   "source": [
    "# OUTPUTS IMAGE OF THE COMPLETED MODEL:"
   ]
  },
  {
   "cell_type": "code",
   "execution_count": null,
   "metadata": {
    "collapsed": true
   },
   "outputs": [],
   "source": []
  },
  {
   "cell_type": "code",
   "execution_count": null,
   "metadata": {
    "collapsed": true
   },
   "outputs": [],
   "source": []
  },
  {
   "cell_type": "code",
   "execution_count": null,
   "metadata": {
    "collapsed": true
   },
   "outputs": [],
   "source": []
  },
  {
   "cell_type": "code",
   "execution_count": null,
   "metadata": {
    "collapsed": true
   },
   "outputs": [],
   "source": []
  },
  {
   "cell_type": "code",
   "execution_count": null,
   "metadata": {
    "collapsed": true
   },
   "outputs": [],
   "source": []
  },
  {
   "cell_type": "code",
   "execution_count": null,
   "metadata": {
    "collapsed": true
   },
   "outputs": [],
   "source": []
  },
  {
   "cell_type": "code",
   "execution_count": null,
   "metadata": {
    "collapsed": true
   },
   "outputs": [],
   "source": []
  },
  {
   "cell_type": "code",
   "execution_count": null,
   "metadata": {
    "collapsed": true
   },
   "outputs": [],
   "source": []
  }
 ],
 "metadata": {
  "kernelspec": {
   "display_name": "Python 2",
   "language": "python",
   "name": "python2"
  },
  "language_info": {
   "codemirror_mode": {
    "name": "ipython",
    "version": 2
   },
   "file_extension": ".py",
   "mimetype": "text/x-python",
   "name": "python",
   "nbconvert_exporter": "python",
   "pygments_lexer": "ipython2",
   "version": "2.7.12"
  }
 },
 "nbformat": 4,
 "nbformat_minor": 1
}
