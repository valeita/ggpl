{
 "cells": [
  {
   "cell_type": "markdown",
   "metadata": {},
   "source": [
    "# WORKSHOP_09\n",
    "\n",
    "## This is a Python project for RomaTre University in Geometric & Graphics Programming Lab. by Alberto Paoluzzi.\n",
    "\n",
    "### Description:\n",
    "\n",
    "Input data a set of segments, each of which corresponds to a side of the roof that you want to build, dynamically create a roof, with a terrace above.\n",
    "the input have this form: [[x,y,z],[x,y,z]],[[],[]]..."
   ]
  },
  {
   "cell_type": "markdown",
   "metadata": {},
   "source": [
    "## Texture used:"
   ]
  },
  {
   "cell_type": "markdown",
   "metadata": {},
   "source": [
    "[![terrazza.jpg](https://s30.postimg.org/qxmp2z2jl/terrazza.jpg)](https://postimg.org/image/60qgyb4il/)"
   ]
  },
  {
   "cell_type": "markdown",
   "metadata": {},
   "source": [
    "[![tetto.jpg](https://s30.postimg.org/md541s881/tetto.jpg)](https://postimg.org/image/vxoqonxjx/)"
   ]
  },
  {
   "cell_type": "markdown",
   "metadata": {
    "collapsed": true
   },
   "source": [
    "This function takes care of finding a constant alpha. it is useful, because it is our starting point for the search of the points inside the roof. an alpha of the incorrect value, would lead to overlapping roof planes.\n",
    "For his research, the list will be taken as input of pairs of points. On them, they will be taken the individual points, eliminating redundancies, and for each of them it will seek the minimum distance with all other points, excluding himself. this is done through search_minimal_distance () method.\n",
    "the function will return the minimum total distance, split 3."
   ]
  },
  {
   "cell_type": "code",
   "execution_count": 29,
   "metadata": {
    "collapsed": true
   },
   "outputs": [],
   "source": [
    "def search_alfa(segment_list):\n",
    "    \"\"\"\n",
    "    this function takes in input a list of segment charaterized of two points, of this type: [[x,y,z],[x,y,z]]\n",
    "    it returns the constant alfa, usefull to generate internal points of the roof.\n",
    "    \"\"\"\n",
    "    i=0\n",
    "    j=0\n",
    "    list = []\n",
    "    point = []\n",
    "\n",
    "    while(i<len(segment_list)):\n",
    "\n",
    "        j=0\n",
    "        while(j<2):\n",
    "            list.append(segment_list[i][j])\n",
    "            j=j+1\n",
    "        i=i+1\n",
    "\n",
    "    i=1\n",
    "    while(i<len(list)):\n",
    "        \n",
    "        point.append(list[i])\n",
    "        i=i+2\n",
    "\n",
    "    i=1\n",
    "    min = search_minimal_distance(point[0],0,point)\n",
    "\n",
    "    while(i<len(point)):\n",
    "        \n",
    "        distance = search_minimal_distance(point[i],i,point)\n",
    "        \n",
    "        if(distance<min):\n",
    "\n",
    "            min = distance\n",
    "        i=i+1\n",
    "\n",
    "    return (min/3)"
   ]
  },
  {
   "cell_type": "markdown",
   "metadata": {
    "collapsed": true
   },
   "source": [
    "The following function supports search_alfa () method.\n",
    "its purpose is to find the minimum distance between the point taken as input, and the rest of the list, excluding himself."
   ]
  },
  {
   "cell_type": "code",
   "execution_count": 30,
   "metadata": {
    "collapsed": true
   },
   "outputs": [],
   "source": [
    "def search_minimal_distance(point,index,list):\n",
    "    \"\"\"\n",
    "    This function takes as input a point, the one from which the search,\n",
    "    an index that corresponds to its location within the main list, and the list itself.\n",
    "    it returns the minimum distance.\n",
    "    \"\"\"\n",
    "    min = 100000\n",
    "    i=0\n",
    "    \n",
    "    while(i<len(list)):\n",
    "\n",
    "        if(i!=index):\n",
    "\n",
    "            distance = sqrt((list[i][1]-point[1])**2 + (list[i][0]-point[0])**2)\n",
    "            if(distance<min):\n",
    "\n",
    "                min = distance\n",
    "        i = i+1\n",
    "        \n",
    "    return min"
   ]
  },
  {
   "cell_type": "markdown",
   "metadata": {
    "collapsed": true
   },
   "source": [
    "This function has the purpose of creating the terrace above the roof. this is done thanks to the search_nearest_point support method, which returns to us the segments of the points between their closest.\n",
    "the end is reached through a MKPOL of each of these segments, with the former. In doing so, you can not fill all the space inside the roof."
   ]
  },
  {
   "cell_type": "code",
   "execution_count": 31,
   "metadata": {
    "collapsed": true
   },
   "outputs": [],
   "source": [
    "def generate_terrace(internal_points,list_segment_angle):\n",
    "    \"\"\"\n",
    "    This method takes as input a list of points inside the roof,\n",
    "    and the angles formed by the sides of the segments.\n",
    "    it returns the hpc of the terrace.\n",
    "    \"\"\"\n",
    "    i=0\n",
    "    list = []\n",
    "    terrace = []\n",
    "    while(i<len(internal_points)):\n",
    "\n",
    "        list.append(search_nearest_point(internal_points[i],i,internal_points))\n",
    "            \n",
    "        i=i+1\n",
    "    i=1\n",
    "    while(i<len(list)):\n",
    "\n",
    "        terrace.append(TEXTURE(\"texture/terrazza.jpg\")(OFFSET([0.2,0.2,0.13])(MKPOL([ [ list[i][0],list[i][1],list[i-1][0],list[i-1][1]],[[1,2,3,4]],[1]]))))\n",
    "        i=i+1\n",
    "    terrace.append(TEXTURE(\"texture/terrazza.jpg\")(OFFSET([0.2,0.2,0.013])(MKPOL([[list[0][0],list[0][1],list[len(list)-1][0],list[len(list)-1][1]],[[1,2,3,4]],[1]]))))\n",
    "    \n",
    "    return STRUCT(terrace)"
   ]
  },
  {
   "cell_type": "markdown",
   "metadata": {},
   "source": [
    "This method has the purpose to take all the points inside the roof, and for each of them look for the next with minimum distance. a segment, which includes them is returned. this method of support is to generate_terrace ()."
   ]
  },
  {
   "cell_type": "code",
   "execution_count": 32,
   "metadata": {
    "collapsed": true
   },
   "outputs": [],
   "source": [
    "def search_nearest_point(point,index,internal_points):\n",
    "    \"\"\"\n",
    "    This function takes as input a point, the one from which the search,\n",
    "    an index that corresponds to its location within the main list, and the list itself.\n",
    "    it returns the segment with the point analyzed, and the nearest point.\n",
    "    \"\"\"\n",
    "    min = 10000\n",
    "    i=0\n",
    "    \n",
    "    while(i<len(internal_points)):\n",
    "\n",
    "        if(i!=index):\n",
    "\n",
    "            distance = sqrt((internal_points[i][1]-point[1])**2 + (internal_points[i][0]-point[0])**2)\n",
    "\n",
    "            if(distance<min):\n",
    "\n",
    "                min = distance\n",
    "                segment = [point,internal_points[i]]\n",
    "        i = i+1\n",
    "    return segment"
   ]
  },
  {
   "cell_type": "markdown",
   "metadata": {},
   "source": [
    "The following function has the purpose of generating all of the roof floors. a fixed portion, and of the points which constitute the sides of the roof, you will have to generate the inclined planes that form a roof. this is done via a MKPOL points between the base of the roof, and the internal points with a fixed portion (in our case to 2 meters)"
   ]
  },
  {
   "cell_type": "code",
   "execution_count": 33,
   "metadata": {
    "collapsed": true
   },
   "outputs": [],
   "source": [
    "def generate_planes(segment_list, internal_points_list):\n",
    "    \"\"\"\n",
    "    This function takes as input a list of segments / sides of the roof,\n",
    "    and its interior points calculated by a previous method.\n",
    "    it returns all planes of the roof.\n",
    "    \"\"\"\n",
    "    i=1\n",
    "    list = []\n",
    "\n",
    "    while(i<len(segment_list)):\n",
    "        \n",
    "        list.append(TEXTURE(\"texture/tetto.jpg\")(OFFSET([0.1,0.1,0.1])(MKPOL([[segment_list[i][0],segment_list[i][1],internal_points_list[i-1],internal_points_list[i] ],[[1,2,3,4]],[1]]))))\n",
    "\n",
    "        i=i+1\n",
    "\n",
    "    list.append(TEXTURE(\"texture/tetto.jpg\")(OFFSET([0.1,0.1,0.1])(MKPOL([[segment_list[0][0],segment_list[0][1],internal_points_list[0],internal_points_list[len(internal_points_list)-1] ],[[1,2,3,4]],[1]]))))\n",
    "    \n",
    "    return STRUCT(list)"
   ]
  },
  {
   "cell_type": "markdown",
   "metadata": {},
   "source": [
    "One of the main functions of our workshops. the main problem is to find the inner points of our roof. to do this, two segments are analyzed in sequence. they, identify 3 points, a starting, a central one between the two segments, and an end point. They will be translated on the origin of the axes. It will be calculated the arc tangent of the previous point. the angle which will be thus calculated, will be used to rotate all points of - (this corner). It will now be transferred to the formation of a point, using the constant alpha, plus a correction factor to take into consideration the angle change. this procedure allows to consider any side of the roof with any other angle, in the same way. the point that has been found, must be rotated in the reverse way and reported to the original coordinates to ensure that its coordinates have sense. the point is rotated by a further angle of 180 degrees to concave corners."
   ]
  },
  {
   "cell_type": "code",
   "execution_count": 34,
   "metadata": {
    "collapsed": true
   },
   "outputs": [],
   "source": [
    "def generate_internal_points(segment_first, segment_last, angle, alfa,quote):\n",
    "    \"\"\"\n",
    "    This function takes as input:\n",
    "    -one business segment that will be analyzed.\n",
    "    -another segment, the next of the previous segment.\n",
    "    -an angle, the one between the two segments.\n",
    "    -a quota, set by us.\n",
    "    it returns the internal points of the roof.\n",
    "    \"\"\"\n",
    "    next = segment_last[1]\n",
    "    central = segment_first[1]\n",
    "    previous = segment_first[0]\n",
    "    i=0\n",
    "    \n",
    "    x_prev = previous[0]-central[0]\n",
    "    y_prev = previous[1]-central[1]\n",
    "\n",
    "    x_next = next[0]-central[0]\n",
    "    y_next = next[1]-central[1]\n",
    "    \n",
    "    first_angle = atan2(y_prev,x_prev)\n",
    "    \n",
    "    hpc_prev = MKPOL([[[x_prev,y_prev,0]],[[1]],[1]])\n",
    "    hpc_next = MKPOL([[[x_next,y_next,0]],[[1]],[1]])\n",
    "    \n",
    "    hpc_prev=ROTATE([1,2])(-first_angle)(hpc_prev)\n",
    "    hpc_next=ROTATE([1,2])(-first_angle)(hpc_next)\n",
    "\n",
    "    u_prev = normalize_values(UKPOL(hpc_prev))\n",
    "    u_next = normalize_values(UKPOL(hpc_next))\n",
    "\n",
    "    if(angle < 180):\n",
    "\n",
    "        cont = (angle-90)/10.\n",
    "        \n",
    "        if(u_next[1]>u_prev[1]):\n",
    "\n",
    "            point = [alfa+(cont*(1/9)),alfa,0]\n",
    "            \n",
    "        elif(u_next[1]<u_prev[1]):\n",
    "\n",
    "            point = [alfa-(cont*(1/9)),-alfa,0]\n",
    "    \n",
    "        hpc_point = MKPOL([[[point[0],point[1],0]],[[1]],[1]])\n",
    "        hpc_point = ROTATE([1,2])(first_angle)(hpc_point)\n",
    "        hpc_point = normalize_values(UKPOL(hpc_point))\n",
    "        return [hpc_point[0]+central[0],hpc_point[1]+central[1],quote]\n",
    "         \n",
    "    if(angle>180):\n",
    "\n",
    "        cont = (angle-270)/10.\n",
    "        \n",
    "        if(u_next[1]>u_prev[1]):\n",
    "\n",
    "            point = [alfa+(cont*(1/9)),alfa,0]\n",
    "            \n",
    "        elif(u_next[1]<u_prev[1]):\n",
    "\n",
    "            point = [alfa-(cont*(1/9)),-alfa,0]\n",
    "    \n",
    "        hpc_point = MKPOL([[[point[0],point[1],0]],[[1]],[1]])\n",
    "        hpc_point = ROTATE([1,2])(first_angle+radians(180))(hpc_point)\n",
    "        hpc_point = normalize_values(UKPOL(hpc_point))\n",
    "        return [hpc_point[0]+central[0],hpc_point[1]+central[1],quote]"
   ]
  },
  {
   "cell_type": "markdown",
   "metadata": {},
   "source": [
    "This function, analyzes the segments of the total list of the roof, two by two, using the check_angle support method. its purpose is to return a list of all the angles of the corners of our roof."
   ]
  },
  {
   "cell_type": "code",
   "execution_count": 35,
   "metadata": {
    "collapsed": true
   },
   "outputs": [],
   "source": [
    "def check_segment(segment_list):\n",
    "\n",
    "    \"\"\"\n",
    "    this function takes in input a list of segment charaterized of two points, of this type: [[x,y,z],[x,y,z]]\n",
    "    it returns the angles of all roof's edge\n",
    "    \"\"\"\n",
    "    i=0\n",
    "    list = []\n",
    "    \n",
    "    while(i<len(segment_list)-1):\n",
    "\n",
    "        previous = segment_list[i][0]\n",
    "        central = segment_list[i][1]\n",
    "        next = segment_list[i+1][1]\n",
    "\n",
    "        angle = check_angle(previous,central,next)\n",
    "        list.append(angle)\n",
    "        \n",
    "        i = i+1\n",
    "\n",
    "    if(i == len(segment_list)-1):\n",
    "\n",
    "        previous = segment_list[i][0]\n",
    "        central = segment_list[i][1]\n",
    "        next = segment_list[0][1]\n",
    "\n",
    "        angle = check_angle(previous,central,next)     \n",
    "        list.append(angle)\n",
    "       \n",
    "    return list\n"
   ]
  },
  {
   "cell_type": "markdown",
   "metadata": {},
   "source": [
    "This function, has the purpose to return the angle between 3 points. a starting, a central one between the two segments, and an end point. They will be translated on the origin of the axes. It will be calculated the arc tangent of the previous point. the angle which will be thus calculated, will be used to rotate all points of (-this corner).Subsequently, the arctangent of the next point is calculated, and the resulting angle, will be correct in the case of a convex corner. in the case of a concave angle, it will prove to be negative, and thus will be added to 360 to output the correct value.This procedure allows to consider any side of the roof with any other angle, in the same way."
   ]
  },
  {
   "cell_type": "code",
   "execution_count": 36,
   "metadata": {
    "collapsed": true
   },
   "outputs": [],
   "source": [
    "def check_angle(previous,central,next):\n",
    "\n",
    "    \"\"\"\n",
    "    This function takes as input 3 points, according to a predefined orientation.\n",
    "    the point have this form [x,y,z]\n",
    "    return the angle between the three points.\n",
    "    \"\"\"\n",
    "    x_prev = previous[0]-central[0]\n",
    "    y_prev = previous[1]-central[1]\n",
    "\n",
    "    x_next = next[0]-central[0]\n",
    "    y_next = next[1]-central[1]\n",
    "    \n",
    "    first_angle = atan2(y_prev,x_prev)\n",
    "    \n",
    "    hpc_prev = MKPOL([[[x_prev,y_prev,0]],[[1]],[1]])\n",
    "    hpc_next = MKPOL([[[x_next,y_next,0]],[[1]],[1]])\n",
    "    \n",
    "    hpc_prev=ROTATE([1,2])(-first_angle)(hpc_prev)\n",
    "    hpc_next=ROTATE([1,2])(-first_angle)(hpc_next)\n",
    "\n",
    "    u_prev = normalize_values(UKPOL(hpc_prev))\n",
    "    u_next = normalize_values(UKPOL(hpc_next))\n",
    "\n",
    "    if (degrees(atan2(u_next[1],u_next[0])) < 0):\n",
    "\n",
    "        return 360 + degrees(atan2(u_next[1],u_next[0]))\n",
    "    else:\n",
    "        return degrees(atan2(u_next[1],u_next[0]))"
   ]
  },
  {
   "cell_type": "markdown",
   "metadata": {},
   "source": [
    "The following method, has the aim of normalizing the points of a list. This is necessary after the operation of UKPOL."
   ]
  },
  {
   "cell_type": "code",
   "execution_count": 37,
   "metadata": {
    "collapsed": true
   },
   "outputs": [],
   "source": [
    "def normalize_values(list):\n",
    "    \"\"\"\n",
    "    normalize_values is a function that rounds float in list.\n",
    "    and return a normalized list.\n",
    "    \"\"\"\n",
    "    point=list[0][0]\n",
    "    values_normalized = []\n",
    "    for i in point:\n",
    "        \n",
    "        if (abs(i)<0.001):\n",
    "\n",
    "            values_normalized.append(0)\n",
    "        else:\n",
    "            values_normalized.append(i)\n",
    "            \n",
    "    return values_normalized"
   ]
  },
  {
   "cell_type": "markdown",
   "metadata": {},
   "source": [
    "He following function, has the purpose of not accepting sides that are shorter than 3 meters. This step is not necessary to achieve our purposes, however, as a roof can be strange, it is useful to try to limit the input to show significant results graphically."
   ]
  },
  {
   "cell_type": "code",
   "execution_count": 38,
   "metadata": {
    "collapsed": true
   },
   "outputs": [],
   "source": [
    "def check_input(segment_list):\n",
    "    \"\"\"\n",
    "    this function takes in input a list of segment charaterized of two points, of this type: [[x,y,z],[x,y,z]]\n",
    "    it verified that the input is acceptable\n",
    "    \"\"\"\n",
    "    for i in segment_list:\n",
    "\n",
    "        left_point = i[0]\n",
    "        right_point = i[1]\n",
    "\n",
    "        distance = sqrt((i[1][1]-i[0][1])**2 + (i[1][0]-i[0][0])**2)\n",
    "\n",
    "        if(distance <3):\n",
    "\n",
    "            exit(\"errore nella creazione di questa sezione di tetto: \" + str(i) + \"\\nogni lato deve essere lungo almeno tre metri per la costruzione di un buon tetto. non rispettare questo vincolo, porta alla creazione di un tetto con un risultato poco apprezzabile\")\n",
    "\n"
   ]
  },
  {
   "cell_type": "markdown",
   "metadata": {},
   "source": [
    "The main function:\n",
    "deals with the constant pursuit of alpha, to find all the corners of our roof, the search for the inner points and generation of plans and the terrace. hpc of a complete roof is returned."
   ]
  },
  {
   "cell_type": "code",
   "execution_count": 39,
   "metadata": {
    "collapsed": false
   },
   "outputs": [
    {
     "name": "stdout",
     "output_type": "stream",
     "text": [
      "Evaluating fenvs.py..\n",
      "...fenvs.py imported in 0.00403217417582 seconds\n"
     ]
    }
   ],
   "source": [
    "from pyplasm import *\n",
    "from larlib import *\n",
    "from math import *\n",
    "\n",
    "def ggpl_geometric_building_roof(segment_list):\n",
    "    \"\"\"\n",
    "    this function takes in input a list of segment charaterized of two points, of this type: [[x,y,z],[x,y,z]]\n",
    "    the segmend, must be the same orientation, and every side must be long 3 minimum meters.\n",
    "    it returns the hpc of the completed structure.\n",
    "    \"\"\"\n",
    "    points = []\n",
    "    i=0\n",
    "    alfa = search_alfa(segment_list)\n",
    "    quote = 2.\n",
    "    list_segment_angle = check_segment(segment_list)\n",
    "    check_input(segment_list)\n",
    "    \n",
    "    while(i<len(segment_list)-1):\n",
    "    \n",
    "        points.append(generate_internal_points(segment_list[i],segment_list[i+1], list_segment_angle[i],alfa,quote))\n",
    "\n",
    "        i=i+1\n",
    "\n",
    "    points.append(generate_internal_points(segment_list[i],segment_list[0], list_segment_angle[i],alfa,quote))\n",
    "\n",
    "    planes = generate_planes(segment_list,points)\n",
    "    terrace = generate_terrace(points,list_segment_angle)\n",
    "\n",
    "    structure = STRUCT([planes,terrace])\n",
    "    VIEW(structure)\n",
    "    search_alfa(segment_list)\n",
    "    return structure"
   ]
  },
  {
   "cell_type": "code",
   "execution_count": 40,
   "metadata": {
    "collapsed": false
   },
   "outputs": [
    {
     "data": {
      "text/plain": [
       "<pyplasm.xgepy.Hpc; proxy of <Swig Object of type 'std::shared_ptr< Hpc > *' at 0x000000000CC3DF00> >"
      ]
     },
     "execution_count": 40,
     "metadata": {},
     "output_type": "execute_result"
    }
   ],
   "source": [
    "ggpl_geometric_building_roof([[[0,0,0],[0,9,0]],[[0,9,0],[11,9,0]],[[11,9,0],[11,6,0]],[[11,6,0],[3,6,0]],[[3,6,0],[3,3,0]],[[3,3,0],[8,3,0]],[[8,3,0],[8,0,0]],[[8,0,0],[0,0,0]]])\n",
    "ggpl_geometric_building_roof([[[4,5,0],[2,8,0]],[[2,8,0],[11,8,0]],[[11,8,0],[9,11,0]],[[9,11,0],[20,8,0]],[[20,8,0],[20,3,0]],[[20,3,0],[14,1,0]],[[14,1,0],[11,5,0]],[[11,5,0],[4,5,0]]])"
   ]
  },
  {
   "cell_type": "markdown",
   "metadata": {},
   "source": [
    "## Some outputs images:"
   ]
  },
  {
   "cell_type": "markdown",
   "metadata": {},
   "source": [
    "[![Immagine1.png](https://s23.postimg.org/qzypwlgqz/Immagine1.png)](https://postimg.org/image/g0dikzqbr/)"
   ]
  },
  {
   "cell_type": "markdown",
   "metadata": {},
   "source": [
    "[![Immagine2.png](https://s23.postimg.org/4cjgqg16z/Immagine2.png)](https://postimg.org/image/z6qpo66tj/)"
   ]
  },
  {
   "cell_type": "markdown",
   "metadata": {},
   "source": [
    "[![Immagine3.png](https://s23.postimg.org/xsz2sv7kb/Immagine3.png)](https://postimg.org/image/twlqwvmkn/)"
   ]
  },
  {
   "cell_type": "markdown",
   "metadata": {},
   "source": [
    "[![Immagine4.png](https://s23.postimg.org/uan2wh6ob/Immagine4.png)](https://postimg.org/image/9qi8xzqx3/)"
   ]
  },
  {
   "cell_type": "markdown",
   "metadata": {},
   "source": [
    "[![Immagine5.png](https://s23.postimg.org/ia1mvqz9n/Immagine5.png)](https://postimg.org/image/xviyfpb7r/)"
   ]
  },
  {
   "cell_type": "markdown",
   "metadata": {},
   "source": [
    "[![Immagine6.png](https://s23.postimg.org/ymbolhdl7/Immagine6.png)](https://postimg.org/image/io2yvcjd3/)"
   ]
  },
  {
   "cell_type": "markdown",
   "metadata": {},
   "source": [
    "[![Immagine7.png](https://s23.postimg.org/zd4er9fyj/Immagine7.png)](https://postimg.org/image/5l7cc2t53/)"
   ]
  },
  {
   "cell_type": "markdown",
   "metadata": {},
   "source": [
    "[![Immagine8.png](https://s23.postimg.org/3uobalbm3/Immagine8.png)](https://postimg.org/image/4wyht4ufb/)"
   ]
  }
 ],
 "metadata": {
  "kernelspec": {
   "display_name": "Python 2",
   "language": "python",
   "name": "python2"
  },
  "language_info": {
   "codemirror_mode": {
    "name": "ipython",
    "version": 2
   },
   "file_extension": ".py",
   "mimetype": "text/x-python",
   "name": "python",
   "nbconvert_exporter": "python",
   "pygments_lexer": "ipython2",
   "version": "2.7.12"
  }
 },
 "nbformat": 4,
 "nbformat_minor": 1
}
