{
 "cells": [
  {
   "cell_type": "markdown",
   "metadata": {},
   "source": [
    "# WORKSHOP_08\n",
    "\n",
    "## This is a Python project for RomaTre University in Geometric & Graphics Programming Lab. by Alberto Paoluzzi.\n",
    "\n",
    "### Description:\n",
    "\n",
    "This project implements a plan in 3D, using the Inkscape program for the creation of svg file, which through a web based tool accessible through url: http://cvdlab.github.io/svg2lines/ are converted into points lists, in which in each of them are shown with respect to x and y values of two points, to indicate that they are joined and represent a segment.\n",
    "Through code, operations will be carried out as an offset and the extrusion of these plans, for the realization of the final home. It will add further texture to make it more presentable.\n",
    "\n",
    "The main transaction that led to its construction is MKPOL."
   ]
  },
  {
   "cell_type": "markdown",
   "metadata": {},
   "source": [
    "the main function: its function is to invoke the other methods whose purpose is to build the entire floor plan for parts: a particular difficulty of this plan, has been encountered in variety of thickness that there was between the different walls.\n",
    "This has prompted to create numerous files svg for the management of the whole.\n",
    "\n",
    "svg files are exactly nine, and each of them has a name characteristic for understanding the role that covers the construction of the house.\n",
    "\n",
    "3 files are for the construction of walls\n",
    "1 for the construction of doors with glass\n",
    "3 files for the construction of the floor\n",
    "1 for the construction of stained glass windows\n",
    "1 for the compartments window"
   ]
  },
  {
   "cell_type": "markdown",
   "metadata": {
    "collapsed": true
   },
   "source": [
    "## Our planimetry that we will realize:\n",
    "[![200mq-planimetria-arredata.png](https://s20.postimg.org/cg9mkwhql/200mq_planimetria_arredata.png)](https://postimg.org/image/i4fxbsm2x/)"
   ]
  },
  {
   "cell_type": "markdown",
   "metadata": {},
   "source": [
    "## Texture used:"
   ]
  },
  {
   "cell_type": "markdown",
   "metadata": {},
   "source": [
    "### Parquet:\n",
    "\n",
    "[![parquet.jpg](https://s20.postimg.org/uswfq8o25/parquet.jpg)](https://postimg.org/image/4xcp71m89/)"
   ]
  },
  {
   "cell_type": "markdown",
   "metadata": {},
   "source": [
    "### Glass doors and windows:\n",
    "[![glass.jpg](https://s20.postimg.org/79yh9v2z1/glass.jpg)](https://postimg.org/image/xv105f5c9/))"
   ]
  },
  {
   "cell_type": "markdown",
   "metadata": {},
   "source": [
    "### Walls:\n",
    "[![tint.jpg](https://s20.postimg.org/cwuu7c5hp/tint.jpg)](https://postimg.org/image/l2cw5htqh/)"
   ]
  },
  {
   "cell_type": "markdown",
   "metadata": {},
   "source": [
    "the main function: its function is to invoke the other methods whose purpose is to build the entire floor plan for parts: a particular difficulty of this plan, has been encountered in variety of thickness that there was between the different walls. This has prompted to create numerous files svg for the management of the whole.\n",
    "svg files are exactly nine, and each of them has a name characteristic for understanding the role that covers the construction of the house.\n",
    "3 files are for the construction of walls 1 for the construction of doors with glass 3 files for the construction of the floor 1 for the construction of stained glass windows 1 for the compartments window."
   ]
  },
  {
   "cell_type": "code",
   "execution_count": 6,
   "metadata": {
    "collapsed": false
   },
   "outputs": [],
   "source": [
    "from pyplasm import *\n",
    "from larlib import *\n",
    "\n",
    "def ggpl_planimetry3D(file_list):\n",
    "\n",
    "    \"\"\"\n",
    "    the function takes into exactly 9 input file\n",
    "    containing lists of useful numbers for the construction\n",
    "    of the casa.l'input is static and must not be varied.\n",
    "    \"\"\"\n",
    "\n",
    "    walls = []\n",
    "    wind = []\n",
    "    others = []\n",
    "    \n",
    "    walls.append(S(2)(-1))\n",
    "    walls.append(PROD([create_walls([file_list[0],file_list[1],file_list[2]]),Q(130)]))\n",
    "    wind.append(S(2)(-1)(T(3)(40)(PROD([create_glass_doors_windows(file_list[8],[14,14]),Q(50)]))))\n",
    "    walls.append((T(3)(100)(PROD([create_glass_doors_windows(file_list[9],[6,6]),Q(30)]))))\n",
    "    walls.append((T(3)(100)(PROD([create_glass_doors_windows(file_list[10],[20,20]),Q(30)]))))\n",
    "    walls.append((T(3)(100)(PROD([create_glass_doors_windows(file_list[11],[13,13]),Q(30)]))))\n",
    "    house_part1 = TEXTURE(\"images/tint.jpg\")(DIFFERENCE([STRUCT(walls),STRUCT(wind)]))\n",
    "    \n",
    "    others.append(S(2)(-1))\n",
    "    others.append(create_floor(file_list[4],9))\n",
    "    others.append(create_floor(file_list[5],6))\n",
    "    others.append(create_floor(file_list[6],1))\n",
    "    others.append(TEXTURE(\"images/glass.jpg\")(PROD([create_glass_doors_windows(file_list[3],[2,2]),Q(100)])))\n",
    "    others.append(TEXTURE(\"images/glass.jpg\")(PROD([create_glass_doors_windows(file_list[7],[13,13]),Q(130)])))\n",
    "\n",
    "    house_part2 = STRUCT(others)\n",
    "\n",
    "    house_completed = STRUCT([house_part1,house_part2])\n",
    "    \n",
    "    VIEW(house_completed)\n",
    "\n",
    "    return house_completed"
   ]
  },
  {
   "cell_type": "markdown",
   "metadata": {},
   "source": [
    "This function takes as input a list of files. We expect exactly 3 files, those that undertake the construction of the dwelling walls."
   ]
  },
  {
   "cell_type": "code",
   "execution_count": 7,
   "metadata": {
    "collapsed": true
   },
   "outputs": [],
   "source": [
    "def create_walls(file_list):\n",
    "\n",
    "    \"\"\"\n",
    "    This function takes as input a list of files.\n",
    "    it must contain exactly 3 files, two of which relate to\n",
    "    the construction of the exterior walls, and the interior walls.\n",
    "    \"\"\"\n",
    "\n",
    "    index = 0\n",
    "    structure = []\n",
    "    array_offset = [[20,20],[13,13],[6,6]]\n",
    "\n",
    "    xMIN = 100000000\n",
    "    yMIN = 100000000\n",
    "    xMAX = -1\n",
    "    yMAX = -1\n",
    "    for elem in file_list:\n",
    "    \n",
    "        file = open(elem)\n",
    "        \n",
    "        for single_line in file:\n",
    "            \n",
    "            num_list = single_line.split(',')                \n",
    "            structure.append(OFFSET([array_offset[index][0],array_offset[index][1]])(MKPOL([[[float(num_list[0]),float(num_list[1])],[float(num_list[2]),float(num_list[3])]],[[1,2]],1])))\n",
    "            \n",
    "        file.close()\n",
    "        index = index+1\n",
    "\n",
    "        structure.append\n",
    " \n",
    "    return STRUCT(structure)"
   ]
  },
  {
   "cell_type": "markdown",
   "metadata": {},
   "source": [
    "This function takes care of the floor of the building. Since the plan of the house is not perfectly symmetrical, this function will be called 3 times, as the floor itself has been split into exactly 3 parts. For its implementation, they are taken the maximum and the minimum of x and y of the points that make up this space."
   ]
  },
  {
   "cell_type": "code",
   "execution_count": 8,
   "metadata": {
    "collapsed": true
   },
   "outputs": [],
   "source": [
    "def create_floor(elem,divisor):\n",
    "\n",
    "    \"\"\"\n",
    "    the function takes as input a file containing lists\n",
    "    of numbers. the purpose is to take the minimum and the\n",
    "    maximum with respect to x and y, and the build-up.\n",
    "    \"\"\"\n",
    "    \n",
    "    structure = []\n",
    "    xMIN = 100000000\n",
    "    yMIN = 100000000\n",
    "    xMAX = -1\n",
    "    yMAX = -1\n",
    "    cont1=0\n",
    "    cont2=0\n",
    "    \n",
    "    file = open(elem)\n",
    "    \n",
    "    for single_line in file:\n",
    "            \n",
    "         num_list = single_line.split(',')\n",
    "            \n",
    "         if(xMIN>float(num_list[0])):\n",
    "             xMIN = float(num_list[0])\n",
    "                \n",
    "         if(xMIN>float(num_list[2])):\n",
    "            xMIN = float(num_list[2])\n",
    "\n",
    "         if(xMAX<float(num_list[0])):\n",
    "            xMAX = float(num_list[0])\n",
    "                \n",
    "         if(xMAX<float(num_list[2])):\n",
    "            xMAX = float(num_list[2])\n",
    "                \n",
    "         if(yMIN>float(num_list[1])):\n",
    "            yMIN = float(num_list[1])\n",
    "                \n",
    "         if(yMIN>float(num_list[3])):\n",
    "            yMIN = float(num_list[3])\n",
    "\n",
    "         if(yMAX<float(num_list[1])):\n",
    "            yMAX = float(num_list[1])\n",
    "                \n",
    "         if(yMAX<float(num_list[3])):\n",
    "            yMAX = float(num_list[3])\n",
    "            \n",
    "    file.close()\n",
    "\n",
    "    x = xMAX-xMIN\n",
    "    y = yMAX-yMIN\n",
    "    i = x/divisor\n",
    "    j = y/divisor\n",
    "    traslx = 0\n",
    "    trasly = 0\n",
    "    structure.append(S(3)(-1))\n",
    "    while(cont1<divisor):\n",
    "\n",
    "        cont2=0\n",
    "        trasly = 0\n",
    "        while(cont2<divisor):\n",
    "\n",
    "            structure.append(TEXTURE(\"images/parquet.jpg\")(T([1,2])([xMIN+traslx,yMIN+trasly])(CUBOID([i,j,1]))))\n",
    "            trasly = trasly+ j\n",
    "            cont2 = cont2+1\n",
    "            \n",
    "        cont1 = cont1+1\n",
    "        traslx = traslx+i\n",
    "        \n",
    "\n",
    "    structure = (STRUCT(structure))\n",
    " \n",
    "    return structure"
   ]
  },
  {
   "cell_type": "markdown",
   "metadata": {},
   "source": [
    "The later function takes as input a file, and offset values that will be set in the element construction. this function will be used for the realization of various elements such as the windows, the normal doors and sliding doors."
   ]
  },
  {
   "cell_type": "code",
   "execution_count": 9,
   "metadata": {
    "collapsed": true
   },
   "outputs": [],
   "source": [
    "def create_glass_doors_windows(elem,offset):\n",
    "\n",
    "    \"\"\"\n",
    "    This function takes as input a file containing a list\n",
    "    of numbers that deals with the construction of the house windows and doors, and the offset value that must configure.\n",
    "    \"\"\"\n",
    "    \n",
    "    structure = []\n",
    "    file = open(elem)\n",
    "        \n",
    "    for single_line in file:\n",
    "            \n",
    "        num_list = single_line.split(',')        \n",
    "        structure.append(OFFSET([offset[0],offset[1]])(MKPOL([[[float(num_list[0]),float(num_list[1])],[float(num_list[2]),float(num_list[3])]],[[1,2]],1])))\n",
    "               \n",
    "    file.close()\n",
    " \n",
    "    return STRUCT(structure)"
   ]
  },
  {
   "cell_type": "markdown",
   "metadata": {},
   "source": [
    "The call of the main function:"
   ]
  },
  {
   "cell_type": "code",
   "execution_count": 10,
   "metadata": {
    "collapsed": false
   },
   "outputs": [
    {
     "data": {
      "text/plain": [
       "<pyplasm.xgepy.Hpc; proxy of <Swig Object of type 'std::shared_ptr< Hpc > *' at 0x000000000C6F2600> >"
      ]
     },
     "execution_count": 10,
     "metadata": {},
     "output_type": "execute_result"
    }
   ],
   "source": [
    "ggpl_planimetry3D([\"file_txt/external_walls.txt\",\"file_txt/external_walls2.txt\",\"file_txt/internal_walls.txt\",\"file_txt/glass_doors.txt\",\"file_txt/floor1.txt\",\"file_txt/floor2.txt\",\"file_txt/floor3.txt\",\"file_txt/glass_windows.txt\",\"file_txt/windows.txt\",\"file_txt/up_doors1.txt\",\"file_txt/up_doors2.txt\",\"file_txt/up_doors3.txt\"])"
   ]
  },
  {
   "cell_type": "markdown",
   "metadata": {},
   "source": [
    "# OUTPUTS:"
   ]
  },
  {
   "cell_type": "markdown",
   "metadata": {},
   "source": [
    "[![Immagine1.png](https://s30.postimg.org/kx58atzap/Immagine1.png)](https://postimg.org/image/f8yxjxuy5/)"
   ]
  },
  {
   "cell_type": "markdown",
   "metadata": {},
   "source": [
    "[![Immagine2.png](https://s30.postimg.org/q9u2oyn75/Immagine2.png)](https://postimg.org/image/wnj5s7s31/)"
   ]
  },
  {
   "cell_type": "markdown",
   "metadata": {},
   "source": [
    "[![Immagine3.png](https://s30.postimg.org/cu71ziepd/Immagine3.png)](https://postimg.org/image/xr3a46cq5/)"
   ]
  },
  {
   "cell_type": "markdown",
   "metadata": {},
   "source": [
    "[![Immagine5.png](https://s30.postimg.org/m3989mnld/Immagine5.png)](https://postimg.org/image/650ijhtd9/)"
   ]
  }
 ],
 "metadata": {
  "kernelspec": {
   "display_name": "Python 2",
   "language": "python",
   "name": "python2"
  },
  "language_info": {
   "codemirror_mode": {
    "name": "ipython",
    "version": 2
   },
   "file_extension": ".py",
   "mimetype": "text/x-python",
   "name": "python",
   "nbconvert_exporter": "python",
   "pygments_lexer": "ipython2",
   "version": "2.7.12"
  }
 },
 "nbformat": 4,
 "nbformat_minor": 1
}
