{
 "cells": [
  {
   "cell_type": "markdown",
   "metadata": {},
   "source": [
    "# WORKSHOP_08\n",
    "\n",
    "## This is a Python project for RomaTre University in Geometric & Graphics Programming Lab. by Alberto Paoluzzi.\n",
    "\n",
    "### Description:\n",
    "\n"
   ]
  },
  {
   "cell_type": "markdown",
   "metadata": {},
   "source": [
    "the main function: its function is to invoke the other methods whose purpose is to build the entire floor plan for parts: a particular difficulty of this plan, has been encountered in variety of thickness that there was between the different walls.\n",
    "This has prompted to create numerous files svg for the management of the whole.\n",
    "\n",
    "svg files are exactly nine, and each of them has a name characteristic for understanding the role that covers the construction of the house.\n",
    "\n",
    "3 files are for the construction of walls\n",
    "1 for the construction of doors with glass\n",
    "3 files for the construction of the floor\n",
    "1 for the construction of stained glass windows\n",
    "1 for the compartments window"
   ]
  },
  {
   "cell_type": "code",
   "execution_count": null,
   "metadata": {
    "collapsed": true
   },
   "outputs": [],
   "source": []
  }
 ],
 "metadata": {
  "kernelspec": {
   "display_name": "Python 2",
   "language": "python",
   "name": "python2"
  },
  "language_info": {
   "codemirror_mode": {
    "name": "ipython",
    "version": 2
   },
   "file_extension": ".py",
   "mimetype": "text/x-python",
   "name": "python",
   "nbconvert_exporter": "python",
   "pygments_lexer": "ipython2",
   "version": "2.7.12"
  }
 },
 "nbformat": 4,
 "nbformat_minor": 1
}
